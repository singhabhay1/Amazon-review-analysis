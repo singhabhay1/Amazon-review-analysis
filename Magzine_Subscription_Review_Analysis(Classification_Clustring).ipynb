{
 "cells": [
  {
   "cell_type": "markdown",
   "id": "69fb37ec",
   "metadata": {},
   "source": [
    "# AMAZON PRODUCT REVIEW ANALYSIS CAPSTONE PROJECT"
   ]
  },
  {
   "cell_type": "markdown",
   "id": "0e2b4f67",
   "metadata": {},
   "source": [
    "## import library"
   ]
  },
  {
   "cell_type": "code",
   "execution_count": 1,
   "id": "719fd676",
   "metadata": {},
   "outputs": [],
   "source": [
    "import pandas as pd\n",
    "import numpy as np\n",
    "import matplotlib.pyplot as plt\n",
    "import seaborn as sns\n",
    "from collections import Counter\n",
    "from sklearn import svm\n",
    "from gensim.models import Word2Vec\n",
    "from sklearn.pipeline import Pipeline, make_pipeline\n",
    "from sklearn.linear_model import LogisticRegression\n",
    "from sklearn.feature_extraction.text import CountVectorizer, TfidfVectorizer\n",
    "from sklearn.decomposition import NMF, LatentDirichletAllocation\n",
    "from sklearn.naive_bayes import MultinomialNB\n",
    "from sklearn.model_selection import train_test_split, cross_val_score\n",
    "from sklearn.model_selection import GridSearchCV\n",
    "from sklearn import metrics\n",
    "from sklearn.metrics import accuracy_score, confusion_matrix, f1_score\n",
    "import itertools\n",
    "import datetime as dt\n",
    "from sklearn.preprocessing import StandardScaler,MinMaxScaler\n",
    "from sklearn.metrics import silhouette_score"
   ]
  },
  {
   "cell_type": "code",
   "execution_count": 6,
   "id": "a9542888",
   "metadata": {},
   "outputs": [],
   "source": [
    "magzine=pd.read_csv('magzine_cleandata22.csv')#read data"
   ]
  },
  {
   "cell_type": "code",
   "execution_count": 7,
   "id": "c1384b9b",
   "metadata": {},
   "outputs": [
    {
     "data": {
      "text/html": [
       "<div>\n",
       "<style scoped>\n",
       "    .dataframe tbody tr th:only-of-type {\n",
       "        vertical-align: middle;\n",
       "    }\n",
       "\n",
       "    .dataframe tbody tr th {\n",
       "        vertical-align: top;\n",
       "    }\n",
       "\n",
       "    .dataframe thead th {\n",
       "        text-align: right;\n",
       "    }\n",
       "</style>\n",
       "<table border=\"1\" class=\"dataframe\">\n",
       "  <thead>\n",
       "    <tr style=\"text-align: right;\">\n",
       "      <th></th>\n",
       "      <th>Unnamed: 0.1</th>\n",
       "      <th>Unnamed: 0</th>\n",
       "      <th>overall</th>\n",
       "      <th>verified</th>\n",
       "      <th>reviewTime</th>\n",
       "      <th>reviewerID</th>\n",
       "      <th>asin</th>\n",
       "      <th>reviewerName</th>\n",
       "      <th>style</th>\n",
       "      <th>category</th>\n",
       "      <th>title</th>\n",
       "      <th>also_buy</th>\n",
       "      <th>brand</th>\n",
       "      <th>also_view</th>\n",
       "      <th>main_cat</th>\n",
       "      <th>Review</th>\n",
       "      <th>polarity</th>\n",
       "      <th>Sentiment</th>\n",
       "    </tr>\n",
       "  </thead>\n",
       "  <tbody>\n",
       "    <tr>\n",
       "      <th>0</th>\n",
       "      <td>0</td>\n",
       "      <td>0</td>\n",
       "      <td>3</td>\n",
       "      <td>False</td>\n",
       "      <td>2007-03-24</td>\n",
       "      <td>A3JPFWKS83R49V</td>\n",
       "      <td>B00005N7OJ</td>\n",
       "      <td>Bryan Carey</td>\n",
       "      <td>Format Print Magazine</td>\n",
       "      <td>['Magazine Subscriptions', 'Home &amp; Garden', 'A...</td>\n",
       "      <td>&lt;span class=\"a-size-medium a-color-secondary\"</td>\n",
       "      <td>['B0009793AC', 'B0045VPFC8', 'B001THPA44', 'B0...</td>\n",
       "      <td>Brant Publications</td>\n",
       "      <td>['B0047VIAE6', 'B0000VBS8C', 'B0009793AC', 'B0...</td>\n",
       "      <td>Magazine Subscriptions</td>\n",
       "      <td>antique magazine publication antique lover his...</td>\n",
       "      <td>0.131140</td>\n",
       "      <td>Positive</td>\n",
       "    </tr>\n",
       "    <tr>\n",
       "      <th>1</th>\n",
       "      <td>1</td>\n",
       "      <td>2</td>\n",
       "      <td>5</td>\n",
       "      <td>False</td>\n",
       "      <td>2006-11-10</td>\n",
       "      <td>A19FKU6JZQ2ECJ</td>\n",
       "      <td>B00005N7OJ</td>\n",
       "      <td>Patricia L. Porada</td>\n",
       "      <td>Format Print Magazine</td>\n",
       "      <td>['Magazine Subscriptions', 'Home &amp; Garden', 'A...</td>\n",
       "      <td>&lt;span class=\"a-size-medium a-color-secondary\"</td>\n",
       "      <td>['B0009793AC', 'B0045VPFC8', 'B001THPA44', 'B0...</td>\n",
       "      <td>Brant Publications</td>\n",
       "      <td>['B0047VIAE6', 'B0000VBS8C', 'B0009793AC', 'B0...</td>\n",
       "      <td>Magazine Subscriptions</td>\n",
       "      <td>beautiful magazine work art quality page bit i...</td>\n",
       "      <td>0.783333</td>\n",
       "      <td>Positive</td>\n",
       "    </tr>\n",
       "    <tr>\n",
       "      <th>2</th>\n",
       "      <td>2</td>\n",
       "      <td>4</td>\n",
       "      <td>5</td>\n",
       "      <td>True</td>\n",
       "      <td>2015-08-23</td>\n",
       "      <td>A2T0GO5G3JJ66V</td>\n",
       "      <td>B00005N7OJ</td>\n",
       "      <td>Helen C. Kuzmier</td>\n",
       "      <td>Format Print Magazine</td>\n",
       "      <td>['Magazine Subscriptions', 'Home &amp; Garden', 'A...</td>\n",
       "      <td>&lt;span class=\"a-size-medium a-color-secondary\"</td>\n",
       "      <td>['B0009793AC', 'B0045VPFC8', 'B001THPA44', 'B0...</td>\n",
       "      <td>Brant Publications</td>\n",
       "      <td>['B0047VIAE6', 'B0000VBS8C', 'B0009793AC', 'B0...</td>\n",
       "      <td>Magazine Subscriptions</td>\n",
       "      <td>magazine work artgreat photography superb inte...</td>\n",
       "      <td>0.562500</td>\n",
       "      <td>Positive</td>\n",
       "    </tr>\n",
       "    <tr>\n",
       "      <th>3</th>\n",
       "      <td>3</td>\n",
       "      <td>6</td>\n",
       "      <td>3</td>\n",
       "      <td>True</td>\n",
       "      <td>2015-03-10</td>\n",
       "      <td>A1CEG4HICKGHUW</td>\n",
       "      <td>B00005N7OJ</td>\n",
       "      <td>Cliffton K. Bryner</td>\n",
       "      <td>Format Print Magazine</td>\n",
       "      <td>['Magazine Subscriptions', 'Home &amp; Garden', 'A...</td>\n",
       "      <td>&lt;span class=\"a-size-medium a-color-secondary\"</td>\n",
       "      <td>['B0009793AC', 'B0045VPFC8', 'B001THPA44', 'B0...</td>\n",
       "      <td>Brant Publications</td>\n",
       "      <td>['B0047VIAE6', 'B0000VBS8C', 'B0009793AC', 'B0...</td>\n",
       "      <td>Magazine Subscriptions</td>\n",
       "      <td>ok star</td>\n",
       "      <td>0.500000</td>\n",
       "      <td>Positive</td>\n",
       "    </tr>\n",
       "    <tr>\n",
       "      <th>4</th>\n",
       "      <td>4</td>\n",
       "      <td>8</td>\n",
       "      <td>3</td>\n",
       "      <td>True</td>\n",
       "      <td>2015-01-04</td>\n",
       "      <td>AJW4UJUSJVKJA</td>\n",
       "      <td>B00005N7OJ</td>\n",
       "      <td>Christine Moran</td>\n",
       "      <td>Format Print Magazine</td>\n",
       "      <td>['Magazine Subscriptions', 'Home &amp; Garden', 'A...</td>\n",
       "      <td>&lt;span class=\"a-size-medium a-color-secondary\"</td>\n",
       "      <td>['B0009793AC', 'B0045VPFC8', 'B001THPA44', 'B0...</td>\n",
       "      <td>Brant Publications</td>\n",
       "      <td>['B0047VIAE6', 'B0000VBS8C', 'B0009793AC', 'B0...</td>\n",
       "      <td>Magazine Subscriptions</td>\n",
       "      <td>nice look way highbrow not renew subscription ...</td>\n",
       "      <td>0.533333</td>\n",
       "      <td>Positive</td>\n",
       "    </tr>\n",
       "  </tbody>\n",
       "</table>\n",
       "</div>"
      ],
      "text/plain": [
       "   Unnamed: 0.1  Unnamed: 0  overall  verified  reviewTime      reviewerID  \\\n",
       "0             0           0        3     False  2007-03-24  A3JPFWKS83R49V   \n",
       "1             1           2        5     False  2006-11-10  A19FKU6JZQ2ECJ   \n",
       "2             2           4        5      True  2015-08-23  A2T0GO5G3JJ66V   \n",
       "3             3           6        3      True  2015-03-10  A1CEG4HICKGHUW   \n",
       "4             4           8        3      True  2015-01-04   AJW4UJUSJVKJA   \n",
       "\n",
       "         asin        reviewerName                  style  \\\n",
       "0  B00005N7OJ         Bryan Carey  Format Print Magazine   \n",
       "1  B00005N7OJ  Patricia L. Porada  Format Print Magazine   \n",
       "2  B00005N7OJ    Helen C. Kuzmier  Format Print Magazine   \n",
       "3  B00005N7OJ  Cliffton K. Bryner  Format Print Magazine   \n",
       "4  B00005N7OJ     Christine Moran  Format Print Magazine   \n",
       "\n",
       "                                            category  \\\n",
       "0  ['Magazine Subscriptions', 'Home & Garden', 'A...   \n",
       "1  ['Magazine Subscriptions', 'Home & Garden', 'A...   \n",
       "2  ['Magazine Subscriptions', 'Home & Garden', 'A...   \n",
       "3  ['Magazine Subscriptions', 'Home & Garden', 'A...   \n",
       "4  ['Magazine Subscriptions', 'Home & Garden', 'A...   \n",
       "\n",
       "                                           title  \\\n",
       "0  <span class=\"a-size-medium a-color-secondary\"   \n",
       "1  <span class=\"a-size-medium a-color-secondary\"   \n",
       "2  <span class=\"a-size-medium a-color-secondary\"   \n",
       "3  <span class=\"a-size-medium a-color-secondary\"   \n",
       "4  <span class=\"a-size-medium a-color-secondary\"   \n",
       "\n",
       "                                            also_buy               brand  \\\n",
       "0  ['B0009793AC', 'B0045VPFC8', 'B001THPA44', 'B0...  Brant Publications   \n",
       "1  ['B0009793AC', 'B0045VPFC8', 'B001THPA44', 'B0...  Brant Publications   \n",
       "2  ['B0009793AC', 'B0045VPFC8', 'B001THPA44', 'B0...  Brant Publications   \n",
       "3  ['B0009793AC', 'B0045VPFC8', 'B001THPA44', 'B0...  Brant Publications   \n",
       "4  ['B0009793AC', 'B0045VPFC8', 'B001THPA44', 'B0...  Brant Publications   \n",
       "\n",
       "                                           also_view                main_cat  \\\n",
       "0  ['B0047VIAE6', 'B0000VBS8C', 'B0009793AC', 'B0...  Magazine Subscriptions   \n",
       "1  ['B0047VIAE6', 'B0000VBS8C', 'B0009793AC', 'B0...  Magazine Subscriptions   \n",
       "2  ['B0047VIAE6', 'B0000VBS8C', 'B0009793AC', 'B0...  Magazine Subscriptions   \n",
       "3  ['B0047VIAE6', 'B0000VBS8C', 'B0009793AC', 'B0...  Magazine Subscriptions   \n",
       "4  ['B0047VIAE6', 'B0000VBS8C', 'B0009793AC', 'B0...  Magazine Subscriptions   \n",
       "\n",
       "                                              Review  polarity Sentiment  \n",
       "0  antique magazine publication antique lover his...  0.131140  Positive  \n",
       "1  beautiful magazine work art quality page bit i...  0.783333  Positive  \n",
       "2  magazine work artgreat photography superb inte...  0.562500  Positive  \n",
       "3                                            ok star  0.500000  Positive  \n",
       "4  nice look way highbrow not renew subscription ...  0.533333  Positive  "
      ]
     },
     "execution_count": 7,
     "metadata": {},
     "output_type": "execute_result"
    }
   ],
   "source": [
    "magzine.head() #top five"
   ]
  },
  {
   "cell_type": "code",
   "execution_count": 8,
   "id": "fc44683f",
   "metadata": {},
   "outputs": [],
   "source": [
    "magzine.drop(['Unnamed: 0','Unnamed: 0.1'],axis=1,inplace=True)# drop unnamed column"
   ]
  },
  {
   "cell_type": "code",
   "execution_count": null,
   "id": "4eb00db7",
   "metadata": {},
   "outputs": [],
   "source": []
  },
  {
   "cell_type": "code",
   "execution_count": 9,
   "id": "4525eef4",
   "metadata": {},
   "outputs": [
    {
     "data": {
      "text/html": [
       "<div>\n",
       "<style scoped>\n",
       "    .dataframe tbody tr th:only-of-type {\n",
       "        vertical-align: middle;\n",
       "    }\n",
       "\n",
       "    .dataframe tbody tr th {\n",
       "        vertical-align: top;\n",
       "    }\n",
       "\n",
       "    .dataframe thead th {\n",
       "        text-align: right;\n",
       "    }\n",
       "</style>\n",
       "<table border=\"1\" class=\"dataframe\">\n",
       "  <thead>\n",
       "    <tr style=\"text-align: right;\">\n",
       "      <th></th>\n",
       "      <th>overall</th>\n",
       "      <th>verified</th>\n",
       "      <th>reviewTime</th>\n",
       "      <th>reviewerID</th>\n",
       "      <th>asin</th>\n",
       "      <th>reviewerName</th>\n",
       "      <th>style</th>\n",
       "      <th>category</th>\n",
       "      <th>title</th>\n",
       "      <th>also_buy</th>\n",
       "      <th>brand</th>\n",
       "      <th>also_view</th>\n",
       "      <th>main_cat</th>\n",
       "      <th>Review</th>\n",
       "      <th>polarity</th>\n",
       "      <th>Sentiment</th>\n",
       "    </tr>\n",
       "  </thead>\n",
       "  <tbody>\n",
       "    <tr>\n",
       "      <th>0</th>\n",
       "      <td>3</td>\n",
       "      <td>False</td>\n",
       "      <td>2007-03-24</td>\n",
       "      <td>A3JPFWKS83R49V</td>\n",
       "      <td>B00005N7OJ</td>\n",
       "      <td>Bryan Carey</td>\n",
       "      <td>Format Print Magazine</td>\n",
       "      <td>['Magazine Subscriptions', 'Home &amp; Garden', 'A...</td>\n",
       "      <td>&lt;span class=\"a-size-medium a-color-secondary\"</td>\n",
       "      <td>['B0009793AC', 'B0045VPFC8', 'B001THPA44', 'B0...</td>\n",
       "      <td>Brant Publications</td>\n",
       "      <td>['B0047VIAE6', 'B0000VBS8C', 'B0009793AC', 'B0...</td>\n",
       "      <td>Magazine Subscriptions</td>\n",
       "      <td>antique magazine publication antique lover his...</td>\n",
       "      <td>0.13114</td>\n",
       "      <td>Positive</td>\n",
       "    </tr>\n",
       "  </tbody>\n",
       "</table>\n",
       "</div>"
      ],
      "text/plain": [
       "   overall  verified  reviewTime      reviewerID        asin reviewerName  \\\n",
       "0        3     False  2007-03-24  A3JPFWKS83R49V  B00005N7OJ  Bryan Carey   \n",
       "\n",
       "                   style                                           category  \\\n",
       "0  Format Print Magazine  ['Magazine Subscriptions', 'Home & Garden', 'A...   \n",
       "\n",
       "                                           title  \\\n",
       "0  <span class=\"a-size-medium a-color-secondary\"   \n",
       "\n",
       "                                            also_buy               brand  \\\n",
       "0  ['B0009793AC', 'B0045VPFC8', 'B001THPA44', 'B0...  Brant Publications   \n",
       "\n",
       "                                           also_view                main_cat  \\\n",
       "0  ['B0047VIAE6', 'B0000VBS8C', 'B0009793AC', 'B0...  Magazine Subscriptions   \n",
       "\n",
       "                                              Review  polarity Sentiment  \n",
       "0  antique magazine publication antique lover his...   0.13114  Positive  "
      ]
     },
     "execution_count": 9,
     "metadata": {},
     "output_type": "execute_result"
    }
   ],
   "source": [
    "magzine.head(1)"
   ]
  },
  {
   "cell_type": "code",
   "execution_count": 10,
   "id": "18aeba84",
   "metadata": {},
   "outputs": [
    {
     "data": {
      "text/html": [
       "<div>\n",
       "<style scoped>\n",
       "    .dataframe tbody tr th:only-of-type {\n",
       "        vertical-align: middle;\n",
       "    }\n",
       "\n",
       "    .dataframe tbody tr th {\n",
       "        vertical-align: top;\n",
       "    }\n",
       "\n",
       "    .dataframe thead tr th {\n",
       "        text-align: left;\n",
       "    }\n",
       "\n",
       "    .dataframe thead tr:last-of-type th {\n",
       "        text-align: right;\n",
       "    }\n",
       "</style>\n",
       "<table border=\"1\" class=\"dataframe\">\n",
       "  <thead>\n",
       "    <tr>\n",
       "      <th></th>\n",
       "      <th colspan=\"4\" halign=\"left\">Review</th>\n",
       "    </tr>\n",
       "    <tr>\n",
       "      <th></th>\n",
       "      <th>count</th>\n",
       "      <th>unique</th>\n",
       "      <th>top</th>\n",
       "      <th>freq</th>\n",
       "    </tr>\n",
       "    <tr>\n",
       "      <th>Sentiment</th>\n",
       "      <th></th>\n",
       "      <th></th>\n",
       "      <th></th>\n",
       "      <th></th>\n",
       "    </tr>\n",
       "  </thead>\n",
       "  <tbody>\n",
       "    <tr>\n",
       "      <th>Negative</th>\n",
       "      <td>4823</td>\n",
       "      <td>4747</td>\n",
       "      <td>grandchild get magazine cricket ladybug stage ...</td>\n",
       "      <td>6</td>\n",
       "    </tr>\n",
       "    <tr>\n",
       "      <th>Neutral</th>\n",
       "      <td>6949</td>\n",
       "      <td>5335</td>\n",
       "      <td>greatfive star</td>\n",
       "      <td>240</td>\n",
       "    </tr>\n",
       "    <tr>\n",
       "      <th>Positive</th>\n",
       "      <td>36795</td>\n",
       "      <td>34046</td>\n",
       "      <td>great magazinefive star</td>\n",
       "      <td>324</td>\n",
       "    </tr>\n",
       "  </tbody>\n",
       "</table>\n",
       "</div>"
      ],
      "text/plain": [
       "          Review                                                            \\\n",
       "           count unique                                                top   \n",
       "Sentiment                                                                    \n",
       "Negative    4823   4747  grandchild get magazine cricket ladybug stage ...   \n",
       "Neutral     6949   5335                                     greatfive star   \n",
       "Positive   36795  34046                            great magazinefive star   \n",
       "\n",
       "                \n",
       "          freq  \n",
       "Sentiment       \n",
       "Negative     6  \n",
       "Neutral    240  \n",
       "Positive   324  "
      ]
     },
     "execution_count": 10,
     "metadata": {},
     "output_type": "execute_result"
    }
   ],
   "source": [
    "magzine2 = magzine[[\"Sentiment\",\"Review\"]]\n",
    "magzine2.groupby('Sentiment').describe()"
   ]
  },
  {
   "cell_type": "code",
   "execution_count": 11,
   "id": "e2a7c590",
   "metadata": {},
   "outputs": [
    {
     "data": {
      "text/plain": [
       "(48568, 16)"
      ]
     },
     "execution_count": 11,
     "metadata": {},
     "output_type": "execute_result"
    }
   ],
   "source": [
    "magzine.shape"
   ]
  },
  {
   "cell_type": "code",
   "execution_count": 62,
   "id": "18ce97a5",
   "metadata": {},
   "outputs": [
    {
     "data": {
      "text/plain": [
       "overall         0\n",
       "verified        0\n",
       "reviewTime      0\n",
       "reviewerID      0\n",
       "asin            0\n",
       "reviewerName    0\n",
       "style           0\n",
       "category        0\n",
       "title           0\n",
       "also_buy        0\n",
       "brand           0\n",
       "also_view       0\n",
       "main_cat        0\n",
       "Review          0\n",
       "polarity        0\n",
       "Sentiment       0\n",
       "dtype: int64"
      ]
     },
     "execution_count": 62,
     "metadata": {},
     "output_type": "execute_result"
    }
   ],
   "source": [
    "magzine.isnull().sum() #check null value"
   ]
  },
  {
   "cell_type": "code",
   "execution_count": 13,
   "id": "527b252a",
   "metadata": {},
   "outputs": [],
   "source": [
    "magzine.dropna(inplace=True)#drop null value"
   ]
  },
  {
   "cell_type": "code",
   "execution_count": 14,
   "id": "b436a448",
   "metadata": {},
   "outputs": [
    {
     "data": {
      "text/plain": [
       "overall           int64\n",
       "verified           bool\n",
       "reviewTime       object\n",
       "reviewerID       object\n",
       "asin             object\n",
       "reviewerName     object\n",
       "style            object\n",
       "category         object\n",
       "title            object\n",
       "also_buy         object\n",
       "brand            object\n",
       "also_view        object\n",
       "main_cat         object\n",
       "Review           object\n",
       "polarity        float64\n",
       "Sentiment        object\n",
       "dtype: object"
      ]
     },
     "execution_count": 14,
     "metadata": {},
     "output_type": "execute_result"
    }
   ],
   "source": [
    "magzine.dtypes#check datatypes"
   ]
  },
  {
   "cell_type": "markdown",
   "id": "3f3446ce",
   "metadata": {},
   "source": [
    "# Classification"
   ]
  },
  {
   "cell_type": "markdown",
   "id": "aa1f3703",
   "metadata": {},
   "source": [
    "## Sentiment classification is the automated process of identifying and classifying emotions in text as positive sentiment, negative sentiment, or neutral sentiment based on the opinions expressed within."
   ]
  },
  {
   "cell_type": "code",
   "execution_count": null,
   "id": "c96f457e",
   "metadata": {},
   "outputs": [],
   "source": []
  },
  {
   "cell_type": "markdown",
   "id": "253bd96c",
   "metadata": {},
   "source": [
    "## - CountVectorizer-->CountVectorizer simply counts the number of times a word appears in a document (using a bag-of-words approach)"
   ]
  },
  {
   "cell_type": "markdown",
   "id": "d594b583",
   "metadata": {},
   "source": [
    "## - TF-IDF Vectorizer --> TF-IDF Vectorizer takes into account not only how many times a word appears in a document but also how important that word is to the whole corpus"
   ]
  },
  {
   "cell_type": "code",
   "execution_count": null,
   "id": "7f7bc8b3",
   "metadata": {},
   "outputs": [],
   "source": []
  },
  {
   "cell_type": "code",
   "execution_count": 15,
   "id": "67510b54",
   "metadata": {},
   "outputs": [
    {
     "data": {
      "text/html": [
       "<div>\n",
       "<style scoped>\n",
       "    .dataframe tbody tr th:only-of-type {\n",
       "        vertical-align: middle;\n",
       "    }\n",
       "\n",
       "    .dataframe tbody tr th {\n",
       "        vertical-align: top;\n",
       "    }\n",
       "\n",
       "    .dataframe thead th {\n",
       "        text-align: right;\n",
       "    }\n",
       "</style>\n",
       "<table border=\"1\" class=\"dataframe\">\n",
       "  <thead>\n",
       "    <tr style=\"text-align: right;\">\n",
       "      <th></th>\n",
       "      <th>Sentiment</th>\n",
       "      <th>Review</th>\n",
       "    </tr>\n",
       "  </thead>\n",
       "  <tbody>\n",
       "    <tr>\n",
       "      <th>0</th>\n",
       "      <td>Positive</td>\n",
       "      <td>antique magazine publication antique lover his...</td>\n",
       "    </tr>\n",
       "  </tbody>\n",
       "</table>\n",
       "</div>"
      ],
      "text/plain": [
       "  Sentiment                                             Review\n",
       "0  Positive  antique magazine publication antique lover his..."
      ]
     },
     "execution_count": 15,
     "metadata": {},
     "output_type": "execute_result"
    }
   ],
   "source": [
    "df=magzine[['Sentiment','Review']]\n",
    "df.head(1)"
   ]
  },
  {
   "cell_type": "markdown",
   "id": "a32d8b75",
   "metadata": {},
   "source": [
    "##### Train/Test Split"
   ]
  },
  {
   "cell_type": "code",
   "execution_count": 17,
   "id": "697c6452",
   "metadata": {},
   "outputs": [
    {
     "name": "stdout",
     "output_type": "stream",
     "text": [
      "x_train shape: (36424,)\n",
      "y_train shape: (36424,)\n",
      "\n",
      "x_test shape: (12142,)\n",
      "y_test shape: (12142,)\n",
      "\n"
     ]
    }
   ],
   "source": [
    "x_train, x_test, y_train, y_test = train_test_split(magzine['Review'], magzine['Sentiment'], random_state=42)\n",
    "print(\"x_train shape: {}\".format(x_train.shape), end='\\n')\n",
    "print(\"y_train shape: {}\".format(y_train.shape), end='\\n\\n')\n",
    "print(\"x_test shape: {}\".format(x_test.shape), end='\\n')\n",
    "print(\"y_test shape: {}\".format(y_test.shape), end='\\n\\n')"
   ]
  },
  {
   "cell_type": "code",
   "execution_count": 54,
   "id": "45d3b1ff",
   "metadata": {},
   "outputs": [
    {
     "name": "stdout",
     "output_type": "stream",
     "text": [
      "8718     Positive\n",
      "9679     Positive\n",
      "43112    Positive\n",
      "58867    Positive\n",
      "67187    Positive\n",
      "           ...   \n",
      "37196     Neutral\n",
      "6265     Positive\n",
      "54890    Positive\n",
      "860      Positive\n",
      "15795    Positive\n",
      "Name: Sentiment, Length: 51704, dtype: object\n"
     ]
    }
   ],
   "source": [
    "print(y_train)"
   ]
  },
  {
   "cell_type": "markdown",
   "id": "c3efbde4",
   "metadata": {},
   "source": [
    "### CountVectorizer with Multinomial Naive Bayes"
   ]
  },
  {
   "cell_type": "code",
   "execution_count": 18,
   "id": "da0e4a9a",
   "metadata": {},
   "outputs": [
    {
     "name": "stderr",
     "output_type": "stream",
     "text": [
      "C:\\Users\\dell\\AppData\\Local\\Temp\\ipykernel_3488\\1049144981.py:1: SettingWithCopyWarning: \n",
      "A value is trying to be set on a copy of a slice from a DataFrame.\n",
      "Try using .loc[row_indexer,col_indexer] = value instead\n",
      "\n",
      "See the caveats in the documentation: https://pandas.pydata.org/pandas-docs/stable/user_guide/indexing.html#returning-a-view-versus-a-copy\n",
      "  df['Sentiment']=df['Sentiment'].astype(str)\n",
      "C:\\Users\\dell\\AppData\\Local\\Temp\\ipykernel_3488\\1049144981.py:2: SettingWithCopyWarning: \n",
      "A value is trying to be set on a copy of a slice from a DataFrame.\n",
      "Try using .loc[row_indexer,col_indexer] = value instead\n",
      "\n",
      "See the caveats in the documentation: https://pandas.pydata.org/pandas-docs/stable/user_guide/indexing.html#returning-a-view-versus-a-copy\n",
      "  df['Review']=df['Review'].astype(str)\n"
     ]
    }
   ],
   "source": [
    "df['Sentiment']=df['Sentiment'].astype(str)\n",
    "df['Review']=df['Review'].astype(str)"
   ]
  },
  {
   "cell_type": "code",
   "execution_count": 20,
   "id": "e54acaf1",
   "metadata": {},
   "outputs": [
    {
     "name": "stdout",
     "output_type": "stream",
     "text": [
      "x_train shape: (36424,)\n",
      "y_train shape: (36424,)\n",
      "\n",
      "x_test shape: (12142,)\n",
      "y_test shape: (12142,)\n",
      "\n"
     ]
    }
   ],
   "source": [
    "x_train, x_test, y_train, y_test = train_test_split(df['Review'], df['Sentiment'], random_state=42)\n",
    "print(\"x_train shape: {}\".format(x_train.shape), end='\\n')\n",
    "print(\"y_train shape: {}\".format(y_train.shape), end='\\n\\n')\n",
    "print(\"x_test shape: {}\".format(x_test.shape), end='\\n')\n",
    "print(\"y_test shape: {}\".format(y_test.shape), end='\\n\\n')"
   ]
  },
  {
   "cell_type": "code",
   "execution_count": 21,
   "id": "f111df3f",
   "metadata": {},
   "outputs": [
    {
     "name": "stdout",
     "output_type": "stream",
     "text": [
      "X_train:\n",
      "<36424x7293 sparse matrix of type '<class 'numpy.int64'>'\n",
      "\twith 581502 stored elements in Compressed Sparse Row format>\n"
     ]
    }
   ],
   "source": [
    "# Vectorize X_train\n",
    "vectorizer = CountVectorizer(min_df=5).fit(x_train)\n",
    "X_train = vectorizer.transform(x_train)\n",
    "print(\"X_train:\\n{}\".format(repr(X_train)))"
   ]
  },
  {
   "cell_type": "code",
   "execution_count": 22,
   "id": "2fd1942e",
   "metadata": {},
   "outputs": [],
   "source": [
    "X_test = vectorizer.transform(x_test)"
   ]
  },
  {
   "cell_type": "code",
   "execution_count": 23,
   "id": "bc609aaf",
   "metadata": {},
   "outputs": [
    {
     "data": {
      "text/plain": [
       "MultinomialNB()"
      ]
     },
     "execution_count": 23,
     "metadata": {},
     "output_type": "execute_result"
    }
   ],
   "source": [
    "# Train MultinomialNB classifier\n",
    "mnb = MultinomialNB()\n",
    "mnb.fit(X_train, y_train)"
   ]
  },
  {
   "cell_type": "code",
   "execution_count": 24,
   "id": "6f261f58",
   "metadata": {},
   "outputs": [],
   "source": [
    "def modelEvaluation(predictions):\n",
    "    '''\n",
    "    Print model evaluation to predicted result \n",
    "    '''\n",
    "    print (\"\\nAccuracy on validation set: {:.4f}\".format(accuracy_score(y_test, predictions)))\n",
    "    #print(\"\\nAUC score : {:.4f}\".format(roc_auc_score(y_test, predictions)))\n",
    "    print(\"\\nClassification report : \\n\", metrics.classification_report(y_test, predictions))\n",
    "    print(\"\\nConfusion Matrix : \\n\", metrics.confusion_matrix(y_test, predictions))"
   ]
  },
  {
   "cell_type": "code",
   "execution_count": 25,
   "id": "c744bd80",
   "metadata": {},
   "outputs": [
    {
     "name": "stdout",
     "output_type": "stream",
     "text": [
      "\n",
      "Accuracy on validation set: 0.8424\n",
      "\n",
      "Classification report : \n",
      "               precision    recall  f1-score   support\n",
      "\n",
      "    Negative       0.46      0.56      0.51      1199\n",
      "     Neutral       0.87      0.64      0.74      1750\n",
      "    Positive       0.90      0.92      0.91      9193\n",
      "\n",
      "    accuracy                           0.84     12142\n",
      "   macro avg       0.74      0.71      0.72     12142\n",
      "weighted avg       0.85      0.84      0.84     12142\n",
      "\n",
      "\n",
      "Confusion Matrix : \n",
      " [[ 673   59  467]\n",
      " [ 124 1124  502]\n",
      " [ 658  103 8432]]\n"
     ]
    }
   ],
   "source": [
    "# Evaluate the model on validaton set\n",
    "predictions = mnb.predict(X_test)\n",
    "modelEvaluation(predictions)"
   ]
  },
  {
   "cell_type": "code",
   "execution_count": 26,
   "id": "bfdeeb52",
   "metadata": {},
   "outputs": [],
   "source": [
    "def get_score(model):\n",
    "    '''\n",
    "    Prints the recall score from model\n",
    "    model : classifier to predict values of X\n",
    "    '''\n",
    "    pred_train = model.predict(X_train)\n",
    "    pred_test = model.predict(X_test)\n",
    "    print(\"Accuracy Score on training set : \", metrics.accuracy_score(y_train, pred_train))\n",
    "    print(\"Accuracy Score on test set : \", metrics.accuracy_score(y_test, pred_test))\n",
    "    print(\"-------------------------------------------------------------\")\n",
    "    print(\"Recall on training set : \", metrics.recall_score(y_train, pred_train,average='weighted'))\n",
    "    print(\"Recall on test set : \", metrics.recall_score(y_test, pred_test,average='weighted'))\n",
    "    print(\"-------------------------------------------------------------\")\n",
    "    print(\"F1 Score on training set : \", metrics.f1_score(y_train, pred_train,average='weighted'))\n",
    "    print(\"F1 Score on test set : \", metrics.f1_score(y_test, pred_test,average='weighted'))\n",
    "    print(\"-------------------------------------------------------------\")\n",
    "    print(\"Precision Score on training set : \", metrics.precision_score(y_train, pred_train,average='weighted'))\n",
    "    print(\"Precision Score on test set : \", metrics.precision_score(y_test, pred_test,average='weighted'))"
   ]
  },
  {
   "cell_type": "code",
   "execution_count": 27,
   "id": "8cc067f1",
   "metadata": {},
   "outputs": [
    {
     "name": "stdout",
     "output_type": "stream",
     "text": [
      "Accuracy Score on training set :  0.8674225785196573\n",
      "Accuracy Score on test set :  0.8424477021907428\n",
      "-------------------------------------------------------------\n",
      "Recall on training set :  0.8674225785196573\n",
      "Recall on test set :  0.8424477021907428\n",
      "-------------------------------------------------------------\n",
      "F1 Score on training set :  0.86863466707104\n",
      "F1 Score on test set :  0.8434807950247653\n",
      "-------------------------------------------------------------\n",
      "Precision Score on training set :  0.8737379386462557\n",
      "Precision Score on test set :  0.8507311327530976\n"
     ]
    }
   ],
   "source": [
    "get_score(mnb)"
   ]
  },
  {
   "cell_type": "code",
   "execution_count": 28,
   "id": "ba226702",
   "metadata": {},
   "outputs": [
    {
     "data": {
      "image/png": "[encoded data removed]",
      "text/plain": [
       "<Figure size 432x288 with 2 Axes>"
      ]
     },
     "metadata": {
      "needs_background": "light"
     },
     "output_type": "display_data"
    }
   ],
   "source": [
    "mnb_cfm = confusion_matrix(y_test, predictions)\n",
    "plt.imshow(mnb_cfm, interpolation='nearest')\n",
    "\n",
    "for i, j in itertools.product(range(mnb_cfm.shape[0]), range(mnb_cfm.shape[1])):\n",
    "    plt.text(j, i, mnb_cfm[i, j],\n",
    "             horizontalalignment=\"center\",\n",
    "             color=\"white\")\n",
    "\n",
    "plt.ylabel('True label (Recall)')\n",
    "plt.xlabel('Predicted label (Precision)')\n",
    "plt.title('Multinomial Naive Bayes | Confusion Matrix')\n",
    "plt.colorbar();"
   ]
  },
  {
   "cell_type": "markdown",
   "id": "1ee55612",
   "metadata": {},
   "source": [
    "## TfidfVectorizer with Multinomial Naive Bayes"
   ]
  },
  {
   "cell_type": "code",
   "execution_count": 29,
   "id": "87cbeeb5",
   "metadata": {},
   "outputs": [
    {
     "name": "stdout",
     "output_type": "stream",
     "text": [
      "X_train:\n",
      "<36424x7293 sparse matrix of type '<class 'numpy.float64'>'\n",
      "\twith 581502 stored elements in Compressed Sparse Row format>\n"
     ]
    }
   ],
   "source": [
    "# Vectorize X_train\n",
    "vectorizer = TfidfVectorizer(min_df=5).fit(x_train)\n",
    "X_train = vectorizer.transform(x_train)\n",
    "print(\"X_train:\\n{}\".format(repr(X_train)))\n",
    "X_test = vectorizer.transform(x_test)\n"
   ]
  },
  {
   "cell_type": "code",
   "execution_count": 30,
   "id": "22c5efdf",
   "metadata": {},
   "outputs": [
    {
     "data": {
      "text/plain": [
       "MultinomialNB()"
      ]
     },
     "execution_count": 30,
     "metadata": {},
     "output_type": "execute_result"
    }
   ],
   "source": [
    "# Train MultinomialNB classifier\n",
    "mnb = MultinomialNB()\n",
    "mnb.fit(X_train, y_train)"
   ]
  },
  {
   "cell_type": "code",
   "execution_count": 31,
   "id": "e15116a7",
   "metadata": {},
   "outputs": [],
   "source": [
    "def modelEvaluation(predictions):\n",
    "    '''\n",
    "    Print model evaluation to predicted result \n",
    "    '''\n",
    "    print (\"\\nAccuracy on validation set: {:.4f}\".format(accuracy_score(y_test, predictions)))\n",
    "    #print(\"\\nAUC score : {:.4f}\".format(roc_auc_score(y_test, predictions)))\n",
    "    print(\"\\nClassification report : \\n\", metrics.classification_report(y_test, predictions))\n",
    "    print(\"\\nConfusion Matrix : \\n\", metrics.confusion_matrix(y_test, predictions))"
   ]
  },
  {
   "cell_type": "code",
   "execution_count": 32,
   "id": "daf1e139",
   "metadata": {},
   "outputs": [
    {
     "name": "stdout",
     "output_type": "stream",
     "text": [
      "\n",
      "Accuracy on validation set: 0.7972\n",
      "\n",
      "Classification report : \n",
      "               precision    recall  f1-score   support\n",
      "\n",
      "    Negative       0.65      0.09      0.15      1199\n",
      "     Neutral       0.96      0.25      0.40      1750\n",
      "    Positive       0.79      0.99      0.88      9193\n",
      "\n",
      "    accuracy                           0.80     12142\n",
      "   macro avg       0.80      0.44      0.48     12142\n",
      "weighted avg       0.80      0.80      0.74     12142\n",
      "\n",
      "\n",
      "Confusion Matrix : \n",
      " [[ 104    7 1088]\n",
      " [   5  445 1300]\n",
      " [  50   12 9131]]\n"
     ]
    }
   ],
   "source": [
    "# Evaluate the model on validaton set\n",
    "predictions = mnb.predict(X_test)\n",
    "modelEvaluation(predictions)"
   ]
  },
  {
   "cell_type": "code",
   "execution_count": 33,
   "id": "96eee6c7",
   "metadata": {},
   "outputs": [],
   "source": [
    "def get_score(model):\n",
    "    '''\n",
    "    Prints the recall score from model\n",
    "    model : classifier to predict values of X\n",
    "    '''\n",
    "    pred_train = model.predict(X_train)\n",
    "    pred_test = model.predict(X_test)\n",
    "    print(\"Accuracy Score on training set : \", metrics.accuracy_score(y_train, pred_train))\n",
    "    print(\"Accuracy Score on test set : \", metrics.accuracy_score(y_test, pred_test))\n",
    "    print(\"-------------------------------------------------------------\")\n",
    "    print(\"Recall on training set : \", metrics.recall_score(y_train, pred_train,average='weighted'))\n",
    "    print(\"Recall on test set : \", metrics.recall_score(y_test, pred_test,average='weighted'))\n",
    "    print(\"-------------------------------------------------------------\")\n",
    "    print(\"F1 Score on training set : \", metrics.f1_score(y_train, pred_train,average='weighted'))\n",
    "    print(\"F1 Score on test set : \", metrics.f1_score(y_test, pred_test,average='weighted'))\n",
    "    print(\"-------------------------------------------------------------\")\n",
    "    print(\"Precision Score on training set : \", metrics.precision_score(y_train, pred_train,average='weighted'))\n",
    "    print(\"Precision Score on test set : \", metrics.precision_score(y_test, pred_test,average='weighted'))"
   ]
  },
  {
   "cell_type": "code",
   "execution_count": 34,
   "id": "2d5633ee",
   "metadata": {},
   "outputs": [
    {
     "name": "stdout",
     "output_type": "stream",
     "text": [
      "Accuracy Score on training set :  0.8088622886009225\n",
      "Accuracy Score on test set :  0.7972327458408829\n",
      "-------------------------------------------------------------\n",
      "Recall on training set :  0.8088622886009225\n",
      "Recall on test set :  0.7972327458408829\n",
      "-------------------------------------------------------------\n",
      "F1 Score on training set :  0.7601071491703337\n",
      "F1 Score on test set :  0.7406271137263208\n",
      "-------------------------------------------------------------\n",
      "Precision Score on training set :  0.8269154711374217\n",
      "Precision Score on test set :  0.80298092275337\n"
     ]
    }
   ],
   "source": [
    "get_score(mnb)"
   ]
  },
  {
   "cell_type": "code",
   "execution_count": 35,
   "id": "5669190e",
   "metadata": {},
   "outputs": [
    {
     "data": {
      "image/png": "[encoded data removed]",
      "text/plain": [
       "<Figure size 432x288 with 2 Axes>"
      ]
     },
     "metadata": {
      "needs_background": "light"
     },
     "output_type": "display_data"
    }
   ],
   "source": [
    "mnb_cfm = confusion_matrix(y_test, predictions)\n",
    "plt.imshow(mnb_cfm, interpolation='nearest')\n",
    "\n",
    "for i, j in itertools.product(range(mnb_cfm.shape[0]), range(mnb_cfm.shape[1])):\n",
    "    plt.text(j, i, mnb_cfm[i, j],\n",
    "             horizontalalignment=\"center\",\n",
    "             color=\"white\")\n",
    "\n",
    "plt.ylabel('True label (Recall)')\n",
    "plt.xlabel('Predicted label (Precision)')\n",
    "plt.title('Multinomial Naive Bayes | Confusion Matrix')\n",
    "plt.colorbar();"
   ]
  },
  {
   "cell_type": "markdown",
   "id": "f13c5a03",
   "metadata": {},
   "source": [
    "## CountVectorizer with Logistic Regression"
   ]
  },
  {
   "cell_type": "code",
   "execution_count": 47,
   "id": "11ffcf4f",
   "metadata": {},
   "outputs": [
    {
     "name": "stderr",
     "output_type": "stream",
     "text": [
      "C:\\Users\\dell\\anaconda3\\lib\\site-packages\\sklearn\\linear_model\\_logistic.py:814: ConvergenceWarning: lbfgs failed to converge (status=1):\n",
      "STOP: TOTAL NO. of ITERATIONS REACHED LIMIT.\n",
      "\n",
      "Increase the number of iterations (max_iter) or scale the data as shown in:\n",
      "    https://scikit-learn.org/stable/modules/preprocessing.html\n",
      "Please also refer to the documentation for alternative solver options:\n",
      "    https://scikit-learn.org/stable/modules/linear_model.html#logistic-regression\n",
      "  n_iter_i = _check_optimize_result(\n"
     ]
    },
    {
     "data": {
      "text/plain": [
       "LogisticRegression()"
      ]
     },
     "execution_count": 47,
     "metadata": {},
     "output_type": "execute_result"
    }
   ],
   "source": [
    "# Fitting and transforming the training data to a document-term matrix using TfidfVectorizer \n",
    "# Vectorize X_train\n",
    "vectorizer = CountVectorizer(min_df=5).fit(x_train)\n",
    "X_train = vectorizer.transform(x_train)\n",
    "X_test = vectorizer.transform(x_test)\n",
    "# Logistic Regression\n",
    "lr1 = LogisticRegression()\n",
    "lr1.fit(X_train, y_train)"
   ]
  },
  {
   "cell_type": "code",
   "execution_count": 48,
   "id": "41ba8c77",
   "metadata": {},
   "outputs": [
    {
     "name": "stdout",
     "output_type": "stream",
     "text": [
      "\n",
      "Accuracy on validation set: 0.9335\n",
      "\n",
      "Classification report : \n",
      "               precision    recall  f1-score   support\n",
      "\n",
      "    Negative       0.77      0.64      0.70      1199\n",
      "     Neutral       0.89      0.96      0.92      1750\n",
      "    Positive       0.96      0.97      0.96      9193\n",
      "\n",
      "    accuracy                           0.93     12142\n",
      "   macro avg       0.87      0.86      0.86     12142\n",
      "weighted avg       0.93      0.93      0.93     12142\n",
      "\n",
      "\n",
      "Confusion Matrix : \n",
      " [[ 767  111  321]\n",
      " [  18 1685   47]\n",
      " [ 210  100 8883]]\n"
     ]
    }
   ],
   "source": [
    "# Evaluate the model on validaton set\n",
    "predictions = lr1.predict(X_test)\n",
    "modelEvaluation(predictions)"
   ]
  },
  {
   "cell_type": "code",
   "execution_count": 49,
   "id": "25de0642",
   "metadata": {},
   "outputs": [
    {
     "name": "stdout",
     "output_type": "stream",
     "text": [
      "Accuracy Score on training set :  0.9794366351855919\n",
      "Accuracy Score on test set :  0.9335364849283478\n",
      "-------------------------------------------------------------\n",
      "Recall on training set :  0.9794366351855919\n",
      "Recall on test set :  0.9335364849283478\n",
      "-------------------------------------------------------------\n",
      "F1 Score on training set :  0.9791398034633781\n",
      "F1 Score on test set :  0.9315523316518189\n",
      "-------------------------------------------------------------\n",
      "Precision Score on training set :  0.9792111170790022\n",
      "Precision Score on test set :  0.9312147398849854\n"
     ]
    }
   ],
   "source": [
    "get_score(lr1)"
   ]
  },
  {
   "cell_type": "code",
   "execution_count": 50,
   "id": "5c2a6b7a",
   "metadata": {},
   "outputs": [
    {
     "data": {
      "image/png": "[encoded data removed]",
      "text/plain": [
       "<Figure size 432x288 with 2 Axes>"
      ]
     },
     "metadata": {
      "needs_background": "light"
     },
     "output_type": "display_data"
    }
   ],
   "source": [
    "lr_cfm = confusion_matrix(y_test, predictions)\n",
    "plt.imshow(lr_cfm, interpolation='nearest')\n",
    "\n",
    "for i, j in itertools.product(range(lr_cfm.shape[0]), range(lr_cfm.shape[1])):\n",
    "    plt.text(j, i, lr_cfm[i, j],\n",
    "             horizontalalignment=\"center\",\n",
    "             color=\"white\")\n",
    "\n",
    "plt.ylabel('True label (Recall)')\n",
    "plt.xlabel('Predicted label (Precision)')\n",
    "plt.title('Logistic Regression| Confusion Matrix')\n",
    "plt.colorbar();"
   ]
  },
  {
   "cell_type": "markdown",
   "id": "e2bc4dc4",
   "metadata": {},
   "source": [
    "## TfidfVectorizer with Logistic Regression"
   ]
  },
  {
   "cell_type": "code",
   "execution_count": 40,
   "id": "c6c42905",
   "metadata": {},
   "outputs": [
    {
     "name": "stdout",
     "output_type": "stream",
     "text": [
      "X_train:\n",
      "<36424x7293 sparse matrix of type '<class 'numpy.float64'>'\n",
      "\twith 581502 stored elements in Compressed Sparse Row format>\n"
     ]
    }
   ],
   "source": [
    "# Vectorize X_train\n",
    "vectorizer = TfidfVectorizer(min_df=5).fit(x_train)\n",
    "X_train = vectorizer.transform(x_train)\n",
    "print(\"X_train:\\n{}\".format(repr(X_train)))\n",
    "X_test = vectorizer.transform(x_test)\n"
   ]
  },
  {
   "cell_type": "code",
   "execution_count": 41,
   "id": "23657317",
   "metadata": {},
   "outputs": [
    {
     "name": "stderr",
     "output_type": "stream",
     "text": [
      "C:\\Users\\dell\\anaconda3\\lib\\site-packages\\sklearn\\linear_model\\_logistic.py:814: ConvergenceWarning: lbfgs failed to converge (status=1):\n",
      "STOP: TOTAL NO. of ITERATIONS REACHED LIMIT.\n",
      "\n",
      "Increase the number of iterations (max_iter) or scale the data as shown in:\n",
      "    https://scikit-learn.org/stable/modules/preprocessing.html\n",
      "Please also refer to the documentation for alternative solver options:\n",
      "    https://scikit-learn.org/stable/modules/linear_model.html#logistic-regression\n",
      "  n_iter_i = _check_optimize_result(\n"
     ]
    },
    {
     "data": {
      "text/plain": [
       "LogisticRegression()"
      ]
     },
     "execution_count": 41,
     "metadata": {},
     "output_type": "execute_result"
    }
   ],
   "source": [
    "# Logistic Regression\n",
    "lr = LogisticRegression()\n",
    "lr.fit(X_train, y_train)"
   ]
  },
  {
   "cell_type": "code",
   "execution_count": 42,
   "id": "69ddfaf8",
   "metadata": {},
   "outputs": [
    {
     "name": "stdout",
     "output_type": "stream",
     "text": [
      "\n",
      "Accuracy on validation set: 0.9190\n",
      "\n",
      "Classification report : \n",
      "               precision    recall  f1-score   support\n",
      "\n",
      "    Negative       0.82      0.52      0.64      1199\n",
      "     Neutral       0.91      0.86      0.89      1750\n",
      "    Positive       0.93      0.98      0.95      9193\n",
      "\n",
      "    accuracy                           0.92     12142\n",
      "   macro avg       0.89      0.79      0.83     12142\n",
      "weighted avg       0.92      0.92      0.91     12142\n",
      "\n",
      "\n",
      "Confusion Matrix : \n",
      " [[ 627   86  486]\n",
      " [  24 1512  214]\n",
      " [ 110   63 9020]]\n"
     ]
    }
   ],
   "source": [
    "# Evaluate the model on validaton set\n",
    "predictions = lr.predict(X_test)\n",
    "modelEvaluation(predictions)"
   ]
  },
  {
   "cell_type": "code",
   "execution_count": 43,
   "id": "68521ccb",
   "metadata": {},
   "outputs": [
    {
     "name": "stdout",
     "output_type": "stream",
     "text": [
      "Accuracy Score on training set :  0.9491269492642214\n",
      "Accuracy Score on test set :  0.9190413440948773\n",
      "-------------------------------------------------------------\n",
      "Recall on training set :  0.9491269492642214\n",
      "Recall on test set :  0.9190413440948773\n",
      "-------------------------------------------------------------\n",
      "F1 Score on training set :  0.9464294082799452\n",
      "F1 Score on test set :  0.9131304000963418\n",
      "-------------------------------------------------------------\n",
      "Precision Score on training set :  0.9480644297760941\n",
      "Precision Score on test set :  0.9151576424330907\n"
     ]
    }
   ],
   "source": [
    "get_score(lr)"
   ]
  },
  {
   "cell_type": "code",
   "execution_count": 44,
   "id": "035dd2a9",
   "metadata": {},
   "outputs": [
    {
     "data": {
      "image/png": "[encoded data removed]",
      "text/plain": [
       "<Figure size 432x288 with 2 Axes>"
      ]
     },
     "metadata": {
      "needs_background": "light"
     },
     "output_type": "display_data"
    }
   ],
   "source": [
    "lr_cfm = confusion_matrix(y_test, predictions)\n",
    "plt.imshow(lr_cfm, interpolation='nearest')\n",
    "\n",
    "for i, j in itertools.product(range(lr_cfm.shape[0]), range(lr_cfm.shape[1])):\n",
    "    plt.text(j, i, lr_cfm[i, j],\n",
    "             horizontalalignment=\"center\",\n",
    "             color=\"white\")\n",
    "\n",
    "plt.ylabel('True label (Recall)')\n",
    "plt.xlabel('Predicted label (Precision)')\n",
    "plt.title('Logistic Regression| Confusion Matrix')\n",
    "plt.colorbar();"
   ]
  },
  {
   "cell_type": "markdown",
   "id": "72a45908",
   "metadata": {},
   "source": [
    "## Create data frame for compare model"
   ]
  },
  {
   "cell_type": "markdown",
   "id": "80b8e964",
   "metadata": {},
   "source": [
    "- CVMNB-->CountVectorizer with Multinomial Naive Bayes\n",
    "- TFIDMNB-->TfidfVectorizer with Multinomial Naive Bayes\n",
    "- CVLR-->CountVectorizer with Logistic Regression\n",
    "- TFIDLR-->TfidfVectorizer with Logistic Regression"
   ]
  },
  {
   "cell_type": "code",
   "execution_count": 45,
   "id": "8af08801",
   "metadata": {},
   "outputs": [],
   "source": [
    "Accuracy=[84.24,79.72,93.35,91.90]\n",
    "F1Score=[84.34,74.06,93.15,91.37]\n",
    "Model=['CVMNB','TFIDMNB','CVLR','TFIDLR']\n",
    "dictt={'Model':Model,\"Accuracy\":Accuracy,\"F1-Score\":F1Score}\n",
    "df1=pd.DataFrame(dictt)"
   ]
  },
  {
   "cell_type": "code",
   "execution_count": 46,
   "id": "df2ab3a5",
   "metadata": {},
   "outputs": [
    {
     "data": {
      "text/html": [
       "<div>\n",
       "<style scoped>\n",
       "    .dataframe tbody tr th:only-of-type {\n",
       "        vertical-align: middle;\n",
       "    }\n",
       "\n",
       "    .dataframe tbody tr th {\n",
       "        vertical-align: top;\n",
       "    }\n",
       "\n",
       "    .dataframe thead th {\n",
       "        text-align: right;\n",
       "    }\n",
       "</style>\n",
       "<table border=\"1\" class=\"dataframe\">\n",
       "  <thead>\n",
       "    <tr style=\"text-align: right;\">\n",
       "      <th></th>\n",
       "      <th>Model</th>\n",
       "      <th>Accuracy</th>\n",
       "      <th>F1-Score</th>\n",
       "    </tr>\n",
       "  </thead>\n",
       "  <tbody>\n",
       "    <tr>\n",
       "      <th>0</th>\n",
       "      <td>CVMNB</td>\n",
       "      <td>84.24</td>\n",
       "      <td>84.34</td>\n",
       "    </tr>\n",
       "    <tr>\n",
       "      <th>1</th>\n",
       "      <td>TFIDMNB</td>\n",
       "      <td>79.72</td>\n",
       "      <td>74.06</td>\n",
       "    </tr>\n",
       "    <tr>\n",
       "      <th>2</th>\n",
       "      <td>CVLR</td>\n",
       "      <td>93.35</td>\n",
       "      <td>93.15</td>\n",
       "    </tr>\n",
       "    <tr>\n",
       "      <th>3</th>\n",
       "      <td>TFIDLR</td>\n",
       "      <td>91.90</td>\n",
       "      <td>91.37</td>\n",
       "    </tr>\n",
       "  </tbody>\n",
       "</table>\n",
       "</div>"
      ],
      "text/plain": [
       "     Model  Accuracy  F1-Score\n",
       "0    CVMNB     84.24     84.34\n",
       "1  TFIDMNB     79.72     74.06\n",
       "2     CVLR     93.35     93.15\n",
       "3   TFIDLR     91.90     91.37"
      ]
     },
     "execution_count": 46,
     "metadata": {},
     "output_type": "execute_result"
    }
   ],
   "source": [
    "df1"
   ]
  },
  {
   "cell_type": "markdown",
   "id": "5b68f336",
   "metadata": {},
   "source": [
    "## CVLR and TFIDLR both have good accuracy and f1score, not much difference between but CVLR have highest Accuracy and F1-Score.So we can use CVLR model for Sentiment prediction"
   ]
  },
  {
   "cell_type": "markdown",
   "id": "e142a69a",
   "metadata": {},
   "source": [
    "### Predictions for unseen review using Classification model"
   ]
  },
  {
   "cell_type": "markdown",
   "id": "206df45e",
   "metadata": {},
   "source": [
    "## positive"
   ]
  },
  {
   "cell_type": "code",
   "execution_count": 55,
   "id": "9b53663f",
   "metadata": {},
   "outputs": [
    {
     "data": {
      "text/plain": [
       "array(['Positive'], dtype=object)"
      ]
     },
     "execution_count": 55,
     "metadata": {},
     "output_type": "execute_result"
    }
   ],
   "source": [
    "lr1.predict(vectorizer.transform(['magazine work artgreat photography superb interesting article highly educational love ithelen kuzmiera gem']))"
   ]
  },
  {
   "cell_type": "markdown",
   "id": "5d24823f",
   "metadata": {},
   "source": [
    "## Negative"
   ]
  },
  {
   "cell_type": "code",
   "execution_count": 54,
   "id": "c55d118f",
   "metadata": {},
   "outputs": [
    {
     "data": {
      "text/plain": [
       "array(['Negative'], dtype=object)"
      ]
     },
     "execution_count": 54,
     "metadata": {},
     "output_type": "execute_result"
    }
   ],
   "source": [
    "lr1.predict(vectorizer.transform([' disappointment pay add think articles family handyman topic I ve disappoint magazine I ve get amazon bern huge disappointmentwhat disappointment pay add']))"
   ]
  },
  {
   "cell_type": "markdown",
   "id": "20b6ed1b",
   "metadata": {},
   "source": [
    "## Neutral"
   ]
  },
  {
   "cell_type": "code",
   "execution_count": 56,
   "id": "d9e53d0d",
   "metadata": {},
   "outputs": [
    {
     "data": {
      "text/plain": [
       "array(['Neutral'], dtype=object)"
      ]
     },
     "execution_count": 56,
     "metadata": {},
     "output_type": "execute_result"
    }
   ],
   "source": [
    "lr1.predict(vectorizer.transform([' find reading inspirationalfive star ']))"
   ]
  },
  {
   "cell_type": "code",
   "execution_count": null,
   "id": "c8f5fbab",
   "metadata": {},
   "outputs": [],
   "source": []
  },
  {
   "cell_type": "code",
   "execution_count": null,
   "id": "d6c1cb15",
   "metadata": {},
   "outputs": [],
   "source": []
  },
  {
   "cell_type": "code",
   "execution_count": 238,
   "id": "e1ae4775",
   "metadata": {},
   "outputs": [
    {
     "data": {
      "text/plain": [
       "Index(['asin', 'title', 'overall', 'brand', 'rank', 'verified', 'reviewerID',\n",
       "       'reviewerName', 'reviewTime', 'price', 'style', 'also_buy', 'also_view',\n",
       "       'main_cat', 'Review', 'polarity', 'Sentiment'],\n",
       "      dtype='object')"
      ]
     },
     "execution_count": 238,
     "metadata": {},
     "output_type": "execute_result"
    }
   ],
   "source": [
    "beauty.columns"
   ]
  },
  {
   "cell_type": "markdown",
   "id": "2fd0eff5",
   "metadata": {},
   "source": [
    "# Clustring"
   ]
  },
  {
   "cell_type": "markdown",
   "id": "45140be0",
   "metadata": {},
   "source": [
    "## Clustering is the task of dividing the unlabeled data or data points into different clusters such that similar data points fall in the same cluster than those which differ from the others. In simple words, the aim of the clustering process is to segregate groups with similar traits and assign them into clusters."
   ]
  },
  {
   "cell_type": "markdown",
   "id": "9ee6628d",
   "metadata": {},
   "source": [
    "# K-means "
   ]
  },
  {
   "cell_type": "markdown",
   "id": "31bbfa9d",
   "metadata": {},
   "source": [
    "## K-means clustering is a type of unsupervised machine learning algorithm used to group data points or observations into K different clusters based on their similarities. The K in K-means represents the number of clusters that the algorithm will identify. The algorithm works by randomly assigning data points to one of K clusters, computing the centroid of each cluster, and then reassigning data points to the nearest centroid. This process is repeated iteratively until the clusters no longer change significantly or until a maximum number of iterations is reached. K-means is commonly used in a variety of fields, including image processing, natural language processing, and customer segmentation."
   ]
  },
  {
   "cell_type": "code",
   "execution_count": 65,
   "id": "b1f4c41c",
   "metadata": {},
   "outputs": [
    {
     "data": {
      "text/plain": [
       "overall       0\n",
       "Review        0\n",
       "brand         0\n",
       "reviewerID    0\n",
       "asin          0\n",
       "Sentiment     0\n",
       "dtype: int64"
      ]
     },
     "execution_count": 65,
     "metadata": {},
     "output_type": "execute_result"
    }
   ],
   "source": [
    "df2.isnull().sum()"
   ]
  },
  {
   "cell_type": "code",
   "execution_count": null,
   "id": "55489b00",
   "metadata": {},
   "outputs": [],
   "source": []
  },
  {
   "cell_type": "code",
   "execution_count": 96,
   "id": "d702ddf1",
   "metadata": {},
   "outputs": [],
   "source": [
    "df2=magzine[['overall','Review','brand','reviewerID','asin','Sentiment']]"
   ]
  },
  {
   "cell_type": "code",
   "execution_count": 97,
   "id": "eca67c09",
   "metadata": {},
   "outputs": [
    {
     "data": {
      "text/html": [
       "<div>\n",
       "<style scoped>\n",
       "    .dataframe tbody tr th:only-of-type {\n",
       "        vertical-align: middle;\n",
       "    }\n",
       "\n",
       "    .dataframe tbody tr th {\n",
       "        vertical-align: top;\n",
       "    }\n",
       "\n",
       "    .dataframe thead th {\n",
       "        text-align: right;\n",
       "    }\n",
       "</style>\n",
       "<table border=\"1\" class=\"dataframe\">\n",
       "  <thead>\n",
       "    <tr style=\"text-align: right;\">\n",
       "      <th></th>\n",
       "      <th>overall</th>\n",
       "      <th>Review</th>\n",
       "      <th>brand</th>\n",
       "      <th>reviewerID</th>\n",
       "      <th>asin</th>\n",
       "      <th>Sentiment</th>\n",
       "    </tr>\n",
       "  </thead>\n",
       "  <tbody>\n",
       "    <tr>\n",
       "      <th>0</th>\n",
       "      <td>3</td>\n",
       "      <td>antique magazine publication antique lover his...</td>\n",
       "      <td>Brant Publications</td>\n",
       "      <td>A3JPFWKS83R49V</td>\n",
       "      <td>B00005N7OJ</td>\n",
       "      <td>Positive</td>\n",
       "    </tr>\n",
       "    <tr>\n",
       "      <th>1</th>\n",
       "      <td>5</td>\n",
       "      <td>beautiful magazine work art quality page bit i...</td>\n",
       "      <td>Brant Publications</td>\n",
       "      <td>A19FKU6JZQ2ECJ</td>\n",
       "      <td>B00005N7OJ</td>\n",
       "      <td>Positive</td>\n",
       "    </tr>\n",
       "    <tr>\n",
       "      <th>2</th>\n",
       "      <td>5</td>\n",
       "      <td>magazine work artgreat photography superb inte...</td>\n",
       "      <td>Brant Publications</td>\n",
       "      <td>A2T0GO5G3JJ66V</td>\n",
       "      <td>B00005N7OJ</td>\n",
       "      <td>Positive</td>\n",
       "    </tr>\n",
       "    <tr>\n",
       "      <th>3</th>\n",
       "      <td>3</td>\n",
       "      <td>ok star</td>\n",
       "      <td>Brant Publications</td>\n",
       "      <td>A1CEG4HICKGHUW</td>\n",
       "      <td>B00005N7OJ</td>\n",
       "      <td>Positive</td>\n",
       "    </tr>\n",
       "    <tr>\n",
       "      <th>4</th>\n",
       "      <td>3</td>\n",
       "      <td>nice look way highbrow not renew subscription ...</td>\n",
       "      <td>Brant Publications</td>\n",
       "      <td>AJW4UJUSJVKJA</td>\n",
       "      <td>B00005N7OJ</td>\n",
       "      <td>Positive</td>\n",
       "    </tr>\n",
       "    <tr>\n",
       "      <th>...</th>\n",
       "      <td>...</td>\n",
       "      <td>...</td>\n",
       "      <td>...</td>\n",
       "      <td>...</td>\n",
       "      <td>...</td>\n",
       "      <td>...</td>\n",
       "    </tr>\n",
       "    <tr>\n",
       "      <th>48563</th>\n",
       "      <td>4</td>\n",
       "      <td>love godly inspire thought prayer wish monthly...</td>\n",
       "      <td>Unity School of Christianity</td>\n",
       "      <td>A1FV4XJ0N7D8JB</td>\n",
       "      <td>B01ED5CQUO</td>\n",
       "      <td>Positive</td>\n",
       "    </tr>\n",
       "    <tr>\n",
       "      <th>48564</th>\n",
       "      <td>5</td>\n",
       "      <td>enjoyedfive star</td>\n",
       "      <td>Conde Nast</td>\n",
       "      <td>AVLFPNGUOE11W</td>\n",
       "      <td>B01ET8LMLO</td>\n",
       "      <td>Neutral</td>\n",
       "    </tr>\n",
       "    <tr>\n",
       "      <th>48565</th>\n",
       "      <td>2</td>\n",
       "      <td>like idea brad pitt like person gq change arti...</td>\n",
       "      <td>Conde Nast</td>\n",
       "      <td>AR000BA3H6ENJ</td>\n",
       "      <td>B01ET8LMLO</td>\n",
       "      <td>Positive</td>\n",
       "    </tr>\n",
       "    <tr>\n",
       "      <th>48566</th>\n",
       "      <td>5</td>\n",
       "      <td>designer constantly look good menswear magazin...</td>\n",
       "      <td>Conde Nast</td>\n",
       "      <td>A2UYDQ82TR6BWM</td>\n",
       "      <td>B01ET8LMLO</td>\n",
       "      <td>Positive</td>\n",
       "    </tr>\n",
       "    <tr>\n",
       "      <th>48567</th>\n",
       "      <td>2</td>\n",
       "      <td>expect fashion trend feel gqstyle magazine lik...</td>\n",
       "      <td>Conde Nast</td>\n",
       "      <td>A229SVXL44EIQP</td>\n",
       "      <td>B01ET8LMLO</td>\n",
       "      <td>Positive</td>\n",
       "    </tr>\n",
       "  </tbody>\n",
       "</table>\n",
       "<p>48566 rows × 6 columns</p>\n",
       "</div>"
      ],
      "text/plain": [
       "       overall                                             Review  \\\n",
       "0            3  antique magazine publication antique lover his...   \n",
       "1            5  beautiful magazine work art quality page bit i...   \n",
       "2            5  magazine work artgreat photography superb inte...   \n",
       "3            3                                            ok star   \n",
       "4            3  nice look way highbrow not renew subscription ...   \n",
       "...        ...                                                ...   \n",
       "48563        4  love godly inspire thought prayer wish monthly...   \n",
       "48564        5                                   enjoyedfive star   \n",
       "48565        2  like idea brad pitt like person gq change arti...   \n",
       "48566        5  designer constantly look good menswear magazin...   \n",
       "48567        2  expect fashion trend feel gqstyle magazine lik...   \n",
       "\n",
       "                              brand      reviewerID        asin Sentiment  \n",
       "0                Brant Publications  A3JPFWKS83R49V  B00005N7OJ  Positive  \n",
       "1                Brant Publications  A19FKU6JZQ2ECJ  B00005N7OJ  Positive  \n",
       "2                Brant Publications  A2T0GO5G3JJ66V  B00005N7OJ  Positive  \n",
       "3                Brant Publications  A1CEG4HICKGHUW  B00005N7OJ  Positive  \n",
       "4                Brant Publications   AJW4UJUSJVKJA  B00005N7OJ  Positive  \n",
       "...                             ...             ...         ...       ...  \n",
       "48563  Unity School of Christianity  A1FV4XJ0N7D8JB  B01ED5CQUO  Positive  \n",
       "48564                    Conde Nast   AVLFPNGUOE11W  B01ET8LMLO   Neutral  \n",
       "48565                    Conde Nast   AR000BA3H6ENJ  B01ET8LMLO  Positive  \n",
       "48566                    Conde Nast  A2UYDQ82TR6BWM  B01ET8LMLO  Positive  \n",
       "48567                    Conde Nast  A229SVXL44EIQP  B01ET8LMLO  Positive  \n",
       "\n",
       "[48566 rows x 6 columns]"
      ]
     },
     "execution_count": 97,
     "metadata": {},
     "output_type": "execute_result"
    }
   ],
   "source": [
    "df2"
   ]
  },
  {
   "cell_type": "code",
   "execution_count": 98,
   "id": "4d46b7e7",
   "metadata": {},
   "outputs": [],
   "source": [
    "\n",
    "#Apply TfidfVectorizer to review text\n",
    "from sklearn.feature_extraction.text import TfidfVectorizer\n",
    "from sklearn.cluster import KMeans\n",
    "from sklearn import metrics"
   ]
  },
  {
   "cell_type": "code",
   "execution_count": 99,
   "id": "49bbae7c",
   "metadata": {},
   "outputs": [
    {
     "name": "stderr",
     "output_type": "stream",
     "text": [
      "C:\\Users\\dell\\anaconda3\\lib\\site-packages\\sklearn\\utils\\deprecation.py:87: FutureWarning: Function get_feature_names is deprecated; get_feature_names is deprecated in 1.0 and will be removed in 1.2. Please use get_feature_names_out instead.\n",
      "  warnings.warn(msg, category=FutureWarning)\n"
     ]
    },
    {
     "name": "stdout",
     "output_type": "stream",
     "text": [
      "some sample features(unique words in the corpus) ['aaafive', 'aaafive star', 'ab', 'aback', 'abandon', 'abbreviate', 'ability', 'ability read', 'able', 'able access']\n",
      "====================================================================================================\n",
      "the type of count vectorizer  <class 'scipy.sparse.csr.csr_matrix'>\n",
      "the shape of out text TFIDF vectorizer  (48566, 30658)\n",
      "the number of unique words including both unigrams and bigrams  30658\n"
     ]
    }
   ],
   "source": [
    "tf_idf_vect = TfidfVectorizer(ngram_range=(1,2), min_df=5)\n",
    "tf_idf_vect.fit(df2['Review'])\n",
    "print(\"some sample features(unique words in the corpus)\",tf_idf_vect.get_feature_names()[0:10])\n",
    "print('='*100)\n",
    "\n",
    "tf_idf = tf_idf_vect.transform(df2['Review'])\n",
    "#Normalize Data\n",
    "#tf_idf_pre = preprocessing.normalize(tf_idf)\n",
    "\n",
    "print(\"the type of count vectorizer \",type(tf_idf))\n",
    "print(\"the shape of out text TFIDF vectorizer \",tf_idf.get_shape())\n",
    "print(\"the number of unique words including both unigrams and bigrams \", tf_idf.get_shape()[1])"
   ]
  },
  {
   "cell_type": "code",
   "execution_count": 100,
   "id": "e1682d02",
   "metadata": {},
   "outputs": [],
   "source": [
    "k_values = [3,4,5,6]\n",
    "loss = []\n",
    "for i in k_values:\n",
    "    kmeans = KMeans(n_clusters=i).fit(tf_idf)\n",
    "    loss.append(kmeans.inertia_)\n"
   ]
  },
  {
   "cell_type": "code",
   "execution_count": 101,
   "id": "8db8219f",
   "metadata": {},
   "outputs": [
    {
     "data": {
      "image/png": "[encoded data removed]",
      "text/plain": [
       "<Figure size 432x288 with 1 Axes>"
      ]
     },
     "metadata": {
      "needs_background": "light"
     },
     "output_type": "display_data"
    }
   ],
   "source": [
    "#Draw Loss VS K values plot\n",
    "plt.plot(k_values, loss)\n",
    "plt.xlabel('K-values',size=14)\n",
    "plt.ylabel('Loss',size=14)\n",
    "plt.title('Loss VS K-values Plot\\n',size=18)\n",
    "plt.grid(True)\n",
    "plt.show()"
   ]
  },
  {
   "cell_type": "code",
   "execution_count": 102,
   "id": "444d107a",
   "metadata": {},
   "outputs": [
    {
     "name": "stdout",
     "output_type": "stream",
     "text": [
      "[0.01196043220017769, 0.015154926379499802, 0.00934006694886895]\n"
     ]
    }
   ],
   "source": [
    "# Choose the optimal value of k using silhouette score\n",
    "from sklearn.metrics import silhouette_score\n",
    "silhouette_scores = []\n",
    "for k in range(3, 6):\n",
    "    kmeans = KMeans(n_clusters=k, init='k-means++', random_state=42)\n",
    "    kmeans.fit(tf_idf)\n",
    "    silhouette_scores.append(silhouette_score(tf_idf, kmeans.labels_))\n",
    "print(silhouette_scores)    \n",
    "    "
   ]
  },
  {
   "cell_type": "code",
   "execution_count": 103,
   "id": "8af0ca37",
   "metadata": {},
   "outputs": [],
   "source": [
    "kmeans = KMeans(n_clusters=4).fit(tf_idf)"
   ]
  },
  {
   "cell_type": "code",
   "execution_count": 104,
   "id": "f76c8bc5",
   "metadata": {},
   "outputs": [
    {
     "name": "stdout",
     "output_type": "stream",
     "text": [
      "No. of reviews in Cluster-0 :  16276\n",
      "\n",
      "No. of reviews in Cluster-1 :  2404\n",
      "\n",
      "No. of reviews in Cluster-2 :  552\n",
      "\n",
      "No. of reviews in Cluster-3 :  29334\n"
     ]
    }
   ],
   "source": [
    "reviews = df2['Review'].values\n",
    "\n",
    "#Getting all the reviews in different clusters\n",
    "cluster0 = []\n",
    "cluster1 = []\n",
    "cluster2 = []\n",
    "cluster3 = []\n",
    "\n",
    "\n",
    "for i in range(kmeans.labels_.shape[0]):\n",
    "    if kmeans.labels_[i] == 0:\n",
    "        cluster0.append(reviews[i])\n",
    "    elif kmeans.labels_[i] == 1:\n",
    "        cluster1.append(reviews[i])\n",
    "    elif kmeans.labels_[i] == 2:\n",
    "        cluster2.append(reviews[i])\n",
    "   \n",
    "    else :\n",
    "        cluster3.append(reviews[i]) \n",
    "        \n",
    "#Number of reviews in different clusters\n",
    "print(\"No. of reviews in Cluster-0 : \",len(cluster0))\n",
    "print(\"\\nNo. of reviews in Cluster-1 : \",len(cluster1))\n",
    "print(\"\\nNo. of reviews in Cluster-2 : \",len(cluster2))\n",
    "print(\"\\nNo. of reviews in Cluster-3 : \",len(cluster3))\n"
   ]
  },
  {
   "cell_type": "markdown",
   "id": "254b3e7d",
   "metadata": {},
   "source": [
    "## Wordclouds of clusters obtained after applying k-means"
   ]
  },
  {
   "cell_type": "code",
   "execution_count": 105,
   "id": "c3ac385d",
   "metadata": {},
   "outputs": [
    {
     "name": "stdout",
     "output_type": "stream",
     "text": [
      "Cluster 0:"
     ]
    },
    {
     "data": {
      "image/png": "[encoded data removed]",
      "text/plain": [
       "<Figure size 432x288 with 1 Axes>"
      ]
     },
     "metadata": {
      "needs_background": "light"
     },
     "output_type": "display_data"
    },
    {
     "name": "stdout",
     "output_type": "stream",
     "text": [
      "Cluster 1:"
     ]
    },
    {
     "data": {
      "image/png": "[encoded data removed]",
      "text/plain": [
       "<Figure size 432x288 with 1 Axes>"
      ]
     },
     "metadata": {
      "needs_background": "light"
     },
     "output_type": "display_data"
    },
    {
     "name": "stdout",
     "output_type": "stream",
     "text": [
      "Cluster 2:"
     ]
    },
    {
     "data": {
      "image/png": "[encoded data removed]",
      "text/plain": [
       "<Figure size 432x288 with 1 Axes>"
      ]
     },
     "metadata": {
      "needs_background": "light"
     },
     "output_type": "display_data"
    },
    {
     "name": "stdout",
     "output_type": "stream",
     "text": [
      "Cluster 3:"
     ]
    },
    {
     "data": {
      "image/png": "[encoded data removed]",
      "text/plain": [
       "<Figure size 432x288 with 1 Axes>"
      ]
     },
     "metadata": {
      "needs_background": "light"
     },
     "output_type": "display_data"
    }
   ],
   "source": [
    "from wordcloud import WordCloud, STOPWORDS, ImageColorGenerator\n",
    "\n",
    "list= [cluster0, cluster1, cluster2, cluster3]\n",
    "\n",
    "count=1\n",
    "for i in range(4):\n",
    "    print(\"Cluster %d:\" % i, end='')\n",
    "    count +=1\n",
    "    wc = WordCloud(background_color=\"white\", max_words=100)\n",
    "    wc.generate(str(list[i]))\n",
    "    plt.imshow(wc, interpolation='bilinear')\n",
    "    plt.axis(\"off\")\n",
    "    plt.show()"
   ]
  },
  {
   "cell_type": "code",
   "execution_count": null,
   "id": "ca4fb23a",
   "metadata": {},
   "outputs": [],
   "source": []
  },
  {
   "cell_type": "markdown",
   "id": "c277e37e",
   "metadata": {},
   "source": [
    "# RFM analysis"
   ]
  },
  {
   "cell_type": "markdown",
   "id": "939e99be",
   "metadata": {},
   "source": [
    "## RFM analysis is a marketing technique used to quantitatively rank and group customers based on the recency, frequency and monetary total of their recent transactions to identify the best customers and perform targeted marketing campaigns."
   ]
  },
  {
   "cell_type": "markdown",
   "id": "35a17b3d",
   "metadata": {},
   "source": [
    "1. Recency: How recently customers made their purchase.\n",
    "2. Frequency: For simplicity, we’ll count the number of times each customer made a purchase.\n",
    "3. Monetary: How much money they spent in total."
   ]
  },
  {
   "attachments": {
    "Incontent_image.png": {
     "image/png": "[encoded data removed]"
    }
   },
   "cell_type": "markdown",
   "id": "1e08ce76",
   "metadata": {},
   "source": [
    "\n",
    "\n",
    "\n",
    "\n",
    "\n",
    "![Incontent_image.png](attachment:Incontent_image.png)\n",
    "\n",
    "\n",
    "\n",
    "\n",
    "\n"
   ]
  },
  {
   "cell_type": "code",
   "execution_count": 106,
   "id": "05535245",
   "metadata": {},
   "outputs": [],
   "source": [
    "# Converting Date Format\n",
    "magzine['reviewTime'] = pd.to_datetime(magzine['reviewTime'])"
   ]
  },
  {
   "cell_type": "code",
   "execution_count": 107,
   "id": "4cc11f71",
   "metadata": {},
   "outputs": [
    {
     "data": {
      "text/plain": [
       "Timestamp('2018-09-13 00:00:00')"
      ]
     },
     "execution_count": 107,
     "metadata": {},
     "output_type": "execute_result"
    }
   ],
   "source": [
    "max_date = magzine['reviewTime'].max()\n",
    "max_date"
   ]
  },
  {
   "cell_type": "code",
   "execution_count": null,
   "id": "5f02fe49",
   "metadata": {},
   "outputs": [],
   "source": []
  },
  {
   "cell_type": "code",
   "execution_count": 108,
   "id": "b0d662ce",
   "metadata": {},
   "outputs": [],
   "source": [
    "# Creating Date\n",
    "end_date = dt.datetime(2018, 9, 14)"
   ]
  },
  {
   "cell_type": "code",
   "execution_count": 112,
   "id": "db211769",
   "metadata": {},
   "outputs": [],
   "source": [
    "# Grouping the Data for RFM\n",
    "data = magzine.groupby('reviewerID').agg({'reviewTime': lambda reviewTime: (end_date - reviewTime.max()).days,'asin' : 'nunique'})\n",
    "     "
   ]
  },
  {
   "cell_type": "code",
   "execution_count": null,
   "id": "3e8d6b1f",
   "metadata": {},
   "outputs": [],
   "source": [
    "# Shape of Data\n",
    "data.shape\n",
    "     "
   ]
  },
  {
   "cell_type": "code",
   "execution_count": null,
   "id": "bc5eb937",
   "metadata": {},
   "outputs": [],
   "source": [
    "data.isnull().sum()"
   ]
  },
  {
   "cell_type": "markdown",
   "id": "fdde8dbe",
   "metadata": {},
   "source": [
    "## Use of rating column"
   ]
  },
  {
   "cell_type": "markdown",
   "id": "dd3b2054",
   "metadata": {},
   "source": [
    "- we can use the rating column in RFM analysis even when the price column is not available. In this case, i would use the rating column as a substitute for the monetary value factor of the RFM analysis.\n",
    "- Use this value as a proxy for the amount of money spent by the customer. i would then use the recency, frequency, and rating scores to segment our customers into groups based on their behavior and satisfaction."
   ]
  },
  {
   "cell_type": "code",
   "execution_count": null,
   "id": "c3a44517",
   "metadata": {},
   "outputs": [],
   "source": []
  },
  {
   "cell_type": "code",
   "execution_count": 113,
   "id": "75d56ff7",
   "metadata": {},
   "outputs": [],
   "source": [
    "\n",
    "new_data = magzine.groupby('reviewerID').agg({'overall': 'mean'})"
   ]
  },
  {
   "cell_type": "code",
   "execution_count": 114,
   "id": "0c684da1",
   "metadata": {},
   "outputs": [],
   "source": [
    "# merge the new_data DataFrame with the data DataFrame on reviewerID\n",
    "data = pd.merge(data, new_data, on='reviewerID', how='left')"
   ]
  },
  {
   "cell_type": "code",
   "execution_count": null,
   "id": "5ec81c59",
   "metadata": {},
   "outputs": [],
   "source": []
  },
  {
   "cell_type": "code",
   "execution_count": null,
   "id": "a6575b75",
   "metadata": {},
   "outputs": [],
   "source": []
  },
  {
   "cell_type": "code",
   "execution_count": 115,
   "id": "edf74dd4",
   "metadata": {},
   "outputs": [
    {
     "data": {
      "text/html": [
       "<div>\n",
       "<style scoped>\n",
       "    .dataframe tbody tr th:only-of-type {\n",
       "        vertical-align: middle;\n",
       "    }\n",
       "\n",
       "    .dataframe tbody tr th {\n",
       "        vertical-align: top;\n",
       "    }\n",
       "\n",
       "    .dataframe thead th {\n",
       "        text-align: right;\n",
       "    }\n",
       "</style>\n",
       "<table border=\"1\" class=\"dataframe\">\n",
       "  <thead>\n",
       "    <tr style=\"text-align: right;\">\n",
       "      <th></th>\n",
       "      <th>recency</th>\n",
       "      <th>frequency</th>\n",
       "      <th>rating</th>\n",
       "    </tr>\n",
       "    <tr>\n",
       "      <th>reviewerID</th>\n",
       "      <th></th>\n",
       "      <th></th>\n",
       "      <th></th>\n",
       "    </tr>\n",
       "  </thead>\n",
       "  <tbody>\n",
       "    <tr>\n",
       "      <th>A0068533X8Y5TYUJWWIC</th>\n",
       "      <td>1571</td>\n",
       "      <td>1</td>\n",
       "      <td>5.0</td>\n",
       "    </tr>\n",
       "    <tr>\n",
       "      <th>A0333047WGK24IZKLDP2</th>\n",
       "      <td>1450</td>\n",
       "      <td>1</td>\n",
       "      <td>4.0</td>\n",
       "    </tr>\n",
       "    <tr>\n",
       "      <th>A0534350D18UHJKPKZ1W</th>\n",
       "      <td>1154</td>\n",
       "      <td>1</td>\n",
       "      <td>5.0</td>\n",
       "    </tr>\n",
       "    <tr>\n",
       "      <th>A095896256EBDK3E42GW</th>\n",
       "      <td>1519</td>\n",
       "      <td>1</td>\n",
       "      <td>1.0</td>\n",
       "    </tr>\n",
       "    <tr>\n",
       "      <th>A1000EWBXBHK0P</th>\n",
       "      <td>1434</td>\n",
       "      <td>2</td>\n",
       "      <td>4.0</td>\n",
       "    </tr>\n",
       "  </tbody>\n",
       "</table>\n",
       "</div>"
      ],
      "text/plain": [
       "                      recency  frequency  rating\n",
       "reviewerID                                      \n",
       "A0068533X8Y5TYUJWWIC     1571          1     5.0\n",
       "A0333047WGK24IZKLDP2     1450          1     4.0\n",
       "A0534350D18UHJKPKZ1W     1154          1     5.0\n",
       "A095896256EBDK3E42GW     1519          1     1.0\n",
       "A1000EWBXBHK0P           1434          2     4.0"
      ]
     },
     "execution_count": 115,
     "metadata": {},
     "output_type": "execute_result"
    }
   ],
   "source": [
    "\n",
    "# Assigning Columns\n",
    "data.columns = ['recency','frequency','rating']\n",
    "# Data Head\n",
    "data.head()"
   ]
  },
  {
   "cell_type": "code",
   "execution_count": 116,
   "id": "0726180d",
   "metadata": {},
   "outputs": [
    {
     "data": {
      "text/html": [
       "<div>\n",
       "<style scoped>\n",
       "    .dataframe tbody tr th:only-of-type {\n",
       "        vertical-align: middle;\n",
       "    }\n",
       "\n",
       "    .dataframe tbody tr th {\n",
       "        vertical-align: top;\n",
       "    }\n",
       "\n",
       "    .dataframe thead th {\n",
       "        text-align: right;\n",
       "    }\n",
       "</style>\n",
       "<table border=\"1\" class=\"dataframe\">\n",
       "  <thead>\n",
       "    <tr style=\"text-align: right;\">\n",
       "      <th></th>\n",
       "      <th>recency</th>\n",
       "      <th>frequency</th>\n",
       "      <th>rating</th>\n",
       "    </tr>\n",
       "  </thead>\n",
       "  <tbody>\n",
       "    <tr>\n",
       "      <th>count</th>\n",
       "      <td>42225.000000</td>\n",
       "      <td>42225.000000</td>\n",
       "      <td>42225.000000</td>\n",
       "    </tr>\n",
       "    <tr>\n",
       "      <th>mean</th>\n",
       "      <td>1636.078769</td>\n",
       "      <td>1.147282</td>\n",
       "      <td>4.011877</td>\n",
       "    </tr>\n",
       "    <tr>\n",
       "      <th>std</th>\n",
       "      <td>1158.194136</td>\n",
       "      <td>0.590298</td>\n",
       "      <td>1.425205</td>\n",
       "    </tr>\n",
       "    <tr>\n",
       "      <th>min</th>\n",
       "      <td>1.000000</td>\n",
       "      <td>1.000000</td>\n",
       "      <td>1.000000</td>\n",
       "    </tr>\n",
       "    <tr>\n",
       "      <th>25%</th>\n",
       "      <td>823.000000</td>\n",
       "      <td>1.000000</td>\n",
       "      <td>3.000000</td>\n",
       "    </tr>\n",
       "    <tr>\n",
       "      <th>50%</th>\n",
       "      <td>1404.000000</td>\n",
       "      <td>1.000000</td>\n",
       "      <td>5.000000</td>\n",
       "    </tr>\n",
       "    <tr>\n",
       "      <th>75%</th>\n",
       "      <td>2057.000000</td>\n",
       "      <td>1.000000</td>\n",
       "      <td>5.000000</td>\n",
       "    </tr>\n",
       "    <tr>\n",
       "      <th>max</th>\n",
       "      <td>6167.000000</td>\n",
       "      <td>31.000000</td>\n",
       "      <td>5.000000</td>\n",
       "    </tr>\n",
       "  </tbody>\n",
       "</table>\n",
       "</div>"
      ],
      "text/plain": [
       "            recency     frequency        rating\n",
       "count  42225.000000  42225.000000  42225.000000\n",
       "mean    1636.078769      1.147282      4.011877\n",
       "std     1158.194136      0.590298      1.425205\n",
       "min        1.000000      1.000000      1.000000\n",
       "25%      823.000000      1.000000      3.000000\n",
       "50%     1404.000000      1.000000      5.000000\n",
       "75%     2057.000000      1.000000      5.000000\n",
       "max     6167.000000     31.000000      5.000000"
      ]
     },
     "execution_count": 116,
     "metadata": {},
     "output_type": "execute_result"
    }
   ],
   "source": [
    "data.describe()"
   ]
  },
  {
   "cell_type": "code",
   "execution_count": 118,
   "id": "83d2981f",
   "metadata": {},
   "outputs": [
    {
     "data": {
      "text/html": [
       "<div>\n",
       "<style scoped>\n",
       "    .dataframe tbody tr th:only-of-type {\n",
       "        vertical-align: middle;\n",
       "    }\n",
       "\n",
       "    .dataframe tbody tr th {\n",
       "        vertical-align: top;\n",
       "    }\n",
       "\n",
       "    .dataframe thead th {\n",
       "        text-align: right;\n",
       "    }\n",
       "</style>\n",
       "<table border=\"1\" class=\"dataframe\">\n",
       "  <thead>\n",
       "    <tr style=\"text-align: right;\">\n",
       "      <th></th>\n",
       "      <th>recency</th>\n",
       "      <th>frequency</th>\n",
       "      <th>rating</th>\n",
       "    </tr>\n",
       "    <tr>\n",
       "      <th>reviewerID</th>\n",
       "      <th></th>\n",
       "      <th></th>\n",
       "      <th></th>\n",
       "    </tr>\n",
       "  </thead>\n",
       "  <tbody>\n",
       "    <tr>\n",
       "      <th>A0068533X8Y5TYUJWWIC</th>\n",
       "      <td>-0.056191</td>\n",
       "      <td>-0.249508</td>\n",
       "      <td>0.693328</td>\n",
       "    </tr>\n",
       "    <tr>\n",
       "      <th>A0333047WGK24IZKLDP2</th>\n",
       "      <td>-0.160665</td>\n",
       "      <td>-0.249508</td>\n",
       "      <td>-0.008334</td>\n",
       "    </tr>\n",
       "    <tr>\n",
       "      <th>A0534350D18UHJKPKZ1W</th>\n",
       "      <td>-0.416238</td>\n",
       "      <td>-0.249508</td>\n",
       "      <td>0.693328</td>\n",
       "    </tr>\n",
       "    <tr>\n",
       "      <th>A095896256EBDK3E42GW</th>\n",
       "      <td>-0.101089</td>\n",
       "      <td>-0.249508</td>\n",
       "      <td>-2.113319</td>\n",
       "    </tr>\n",
       "    <tr>\n",
       "      <th>A1000EWBXBHK0P</th>\n",
       "      <td>-0.174480</td>\n",
       "      <td>1.444570</td>\n",
       "      <td>-0.008334</td>\n",
       "    </tr>\n",
       "  </tbody>\n",
       "</table>\n",
       "</div>"
      ],
      "text/plain": [
       "                       recency  frequency    rating\n",
       "reviewerID                                         \n",
       "A0068533X8Y5TYUJWWIC -0.056191  -0.249508  0.693328\n",
       "A0333047WGK24IZKLDP2 -0.160665  -0.249508 -0.008334\n",
       "A0534350D18UHJKPKZ1W -0.416238  -0.249508  0.693328\n",
       "A095896256EBDK3E42GW -0.101089  -0.249508 -2.113319\n",
       "A1000EWBXBHK0P       -0.174480   1.444570 -0.008334"
      ]
     },
     "execution_count": 118,
     "metadata": {},
     "output_type": "execute_result"
    }
   ],
   "source": [
    "# Scaling of Data\n",
    "std = StandardScaler()\n",
    "scaled_df = std.fit_transform(data)\n",
    "# Creating DataFrame for Scaled Data\n",
    "scaled_df = pd.DataFrame(scaled_df,columns=['recency','frequency','rating'], index=data.index)\n",
    "scaled_df.head()"
   ]
  },
  {
   "cell_type": "code",
   "execution_count": 119,
   "id": "a26d432c",
   "metadata": {},
   "outputs": [
    {
     "data": {
      "text/plain": [
       "recency      0\n",
       "frequency    0\n",
       "rating       0\n",
       "dtype: int64"
      ]
     },
     "execution_count": 119,
     "metadata": {},
     "output_type": "execute_result"
    }
   ],
   "source": [
    "scaled_df.isnull().sum()"
   ]
  },
  {
   "cell_type": "code",
   "execution_count": null,
   "id": "d737c3ba",
   "metadata": {},
   "outputs": [],
   "source": []
  },
  {
   "cell_type": "code",
   "execution_count": 120,
   "id": "157bfaa8",
   "metadata": {},
   "outputs": [
    {
     "name": "stdout",
     "output_type": "stream",
     "text": [
      "[0.5104306754240626, 0.5346826578300785]\n"
     ]
    }
   ],
   "source": [
    "\n",
    "silhouette_scores = []\n",
    "for k in range(4, 6):\n",
    "    kmeans = KMeans(n_clusters=k, init='k-means++', random_state=42)\n",
    "    kmeans.fit(scaled_df)\n",
    "    silhouette_scores.append(silhouette_score(scaled_df, kmeans.labels_))\n",
    "print(silhouette_scores)    \n",
    "    "
   ]
  },
  {
   "cell_type": "markdown",
   "id": "5093695f",
   "metadata": {},
   "source": [
    "### k=5"
   ]
  },
  {
   "cell_type": "code",
   "execution_count": 121,
   "id": "fb6eb955",
   "metadata": {},
   "outputs": [],
   "source": [
    "# Model Building\n",
    "model_1 = KMeans(n_clusters=5,random_state=42)"
   ]
  },
  {
   "cell_type": "code",
   "execution_count": 122,
   "id": "96ee9d9d",
   "metadata": {},
   "outputs": [
    {
     "data": {
      "text/plain": [
       "KMeans(n_clusters=5, random_state=42)"
      ]
     },
     "execution_count": 122,
     "metadata": {},
     "output_type": "execute_result"
    }
   ],
   "source": [
    "# Fitting Data\n",
    "model_1.fit(scaled_df)\n",
    "     "
   ]
  },
  {
   "cell_type": "code",
   "execution_count": 123,
   "id": "afd076ac",
   "metadata": {},
   "outputs": [
    {
     "name": "stdout",
     "output_type": "stream",
     "text": [
      "          0         1         2\n",
      "0  1.883068 -0.174281  0.251133\n",
      "1 -0.113611 -0.206341 -1.619005\n",
      "2 -0.367934 -0.249508  0.565713\n",
      "3 -0.190885  9.248843  0.223890\n",
      "4 -0.345841  1.962879  0.280310\n"
     ]
    }
   ],
   "source": [
    "# Interpret the clusters\n",
    "cluster_centers = pd.DataFrame(model_1.cluster_centers_)\n",
    "print(cluster_centers)"
   ]
  },
  {
   "cell_type": "code",
   "execution_count": 124,
   "id": "aded8a9a",
   "metadata": {},
   "outputs": [
    {
     "data": {
      "text/html": [
       "<div>\n",
       "<style scoped>\n",
       "    .dataframe tbody tr th:only-of-type {\n",
       "        vertical-align: middle;\n",
       "    }\n",
       "\n",
       "    .dataframe tbody tr th {\n",
       "        vertical-align: top;\n",
       "    }\n",
       "\n",
       "    .dataframe thead th {\n",
       "        text-align: right;\n",
       "    }\n",
       "</style>\n",
       "<table border=\"1\" class=\"dataframe\">\n",
       "  <thead>\n",
       "    <tr style=\"text-align: right;\">\n",
       "      <th></th>\n",
       "      <th>labels</th>\n",
       "    </tr>\n",
       "  </thead>\n",
       "  <tbody>\n",
       "    <tr>\n",
       "      <th>0</th>\n",
       "      <td>2</td>\n",
       "    </tr>\n",
       "    <tr>\n",
       "      <th>1</th>\n",
       "      <td>2</td>\n",
       "    </tr>\n",
       "    <tr>\n",
       "      <th>2</th>\n",
       "      <td>2</td>\n",
       "    </tr>\n",
       "    <tr>\n",
       "      <th>3</th>\n",
       "      <td>1</td>\n",
       "    </tr>\n",
       "    <tr>\n",
       "      <th>4</th>\n",
       "      <td>4</td>\n",
       "    </tr>\n",
       "  </tbody>\n",
       "</table>\n",
       "</div>"
      ],
      "text/plain": [
       "   labels\n",
       "0       2\n",
       "1       2\n",
       "2       2\n",
       "3       1\n",
       "4       4"
      ]
     },
     "execution_count": 124,
     "metadata": {},
     "output_type": "execute_result"
    }
   ],
   "source": [
    "# Cluster Labels\n",
    "label_df = pd.DataFrame(model_1.labels_,columns=['labels'])\n",
    "label_df.head()\n",
    "     "
   ]
  },
  {
   "cell_type": "code",
   "execution_count": 125,
   "id": "cbec995b",
   "metadata": {},
   "outputs": [
    {
     "data": {
      "text/html": [
       "<div>\n",
       "<style scoped>\n",
       "    .dataframe tbody tr th:only-of-type {\n",
       "        vertical-align: middle;\n",
       "    }\n",
       "\n",
       "    .dataframe tbody tr th {\n",
       "        vertical-align: top;\n",
       "    }\n",
       "\n",
       "    .dataframe thead th {\n",
       "        text-align: right;\n",
       "    }\n",
       "</style>\n",
       "<table border=\"1\" class=\"dataframe\">\n",
       "  <thead>\n",
       "    <tr style=\"text-align: right;\">\n",
       "      <th></th>\n",
       "      <th>recency</th>\n",
       "      <th>frequency</th>\n",
       "      <th>rating</th>\n",
       "      <th>labels</th>\n",
       "    </tr>\n",
       "    <tr>\n",
       "      <th>reviewerID</th>\n",
       "      <th></th>\n",
       "      <th></th>\n",
       "      <th></th>\n",
       "      <th></th>\n",
       "    </tr>\n",
       "  </thead>\n",
       "  <tbody>\n",
       "    <tr>\n",
       "      <th>A0068533X8Y5TYUJWWIC</th>\n",
       "      <td>-0.056191</td>\n",
       "      <td>-0.249508</td>\n",
       "      <td>0.693328</td>\n",
       "      <td>2</td>\n",
       "    </tr>\n",
       "    <tr>\n",
       "      <th>A0333047WGK24IZKLDP2</th>\n",
       "      <td>-0.160665</td>\n",
       "      <td>-0.249508</td>\n",
       "      <td>-0.008334</td>\n",
       "      <td>2</td>\n",
       "    </tr>\n",
       "    <tr>\n",
       "      <th>A0534350D18UHJKPKZ1W</th>\n",
       "      <td>-0.416238</td>\n",
       "      <td>-0.249508</td>\n",
       "      <td>0.693328</td>\n",
       "      <td>2</td>\n",
       "    </tr>\n",
       "    <tr>\n",
       "      <th>A095896256EBDK3E42GW</th>\n",
       "      <td>-0.101089</td>\n",
       "      <td>-0.249508</td>\n",
       "      <td>-2.113319</td>\n",
       "      <td>1</td>\n",
       "    </tr>\n",
       "    <tr>\n",
       "      <th>A1000EWBXBHK0P</th>\n",
       "      <td>-0.174480</td>\n",
       "      <td>1.444570</td>\n",
       "      <td>-0.008334</td>\n",
       "      <td>4</td>\n",
       "    </tr>\n",
       "  </tbody>\n",
       "</table>\n",
       "</div>"
      ],
      "text/plain": [
       "                       recency  frequency    rating  labels\n",
       "reviewerID                                                 \n",
       "A0068533X8Y5TYUJWWIC -0.056191  -0.249508  0.693328       2\n",
       "A0333047WGK24IZKLDP2 -0.160665  -0.249508 -0.008334       2\n",
       "A0534350D18UHJKPKZ1W -0.416238  -0.249508  0.693328       2\n",
       "A095896256EBDK3E42GW -0.101089  -0.249508 -2.113319       1\n",
       "A1000EWBXBHK0P       -0.174480   1.444570 -0.008334       4"
      ]
     },
     "execution_count": 125,
     "metadata": {},
     "output_type": "execute_result"
    }
   ],
   "source": [
    "# Adding Labels to Data Frame\n",
    "scaled_df['labels'] = label_df['labels'].values\n",
    "scaled_df.head()"
   ]
  },
  {
   "cell_type": "code",
   "execution_count": 126,
   "id": "82df8afc",
   "metadata": {},
   "outputs": [
    {
     "data": {
      "text/html": [
       "<div>\n",
       "<style scoped>\n",
       "    .dataframe tbody tr th:only-of-type {\n",
       "        vertical-align: middle;\n",
       "    }\n",
       "\n",
       "    .dataframe tbody tr th {\n",
       "        vertical-align: top;\n",
       "    }\n",
       "\n",
       "    .dataframe thead th {\n",
       "        text-align: right;\n",
       "    }\n",
       "</style>\n",
       "<table border=\"1\" class=\"dataframe\">\n",
       "  <thead>\n",
       "    <tr style=\"text-align: right;\">\n",
       "      <th></th>\n",
       "      <th>recency</th>\n",
       "      <th>frequency</th>\n",
       "      <th>rating</th>\n",
       "      <th>labels</th>\n",
       "    </tr>\n",
       "    <tr>\n",
       "      <th>reviewerID</th>\n",
       "      <th></th>\n",
       "      <th></th>\n",
       "      <th></th>\n",
       "      <th></th>\n",
       "    </tr>\n",
       "  </thead>\n",
       "  <tbody>\n",
       "    <tr>\n",
       "      <th>A0068533X8Y5TYUJWWIC</th>\n",
       "      <td>1571</td>\n",
       "      <td>1</td>\n",
       "      <td>5.0</td>\n",
       "      <td>2</td>\n",
       "    </tr>\n",
       "    <tr>\n",
       "      <th>A0333047WGK24IZKLDP2</th>\n",
       "      <td>1450</td>\n",
       "      <td>1</td>\n",
       "      <td>4.0</td>\n",
       "      <td>2</td>\n",
       "    </tr>\n",
       "    <tr>\n",
       "      <th>A0534350D18UHJKPKZ1W</th>\n",
       "      <td>1154</td>\n",
       "      <td>1</td>\n",
       "      <td>5.0</td>\n",
       "      <td>2</td>\n",
       "    </tr>\n",
       "    <tr>\n",
       "      <th>A095896256EBDK3E42GW</th>\n",
       "      <td>1519</td>\n",
       "      <td>1</td>\n",
       "      <td>1.0</td>\n",
       "      <td>1</td>\n",
       "    </tr>\n",
       "    <tr>\n",
       "      <th>A1000EWBXBHK0P</th>\n",
       "      <td>1434</td>\n",
       "      <td>2</td>\n",
       "      <td>4.0</td>\n",
       "      <td>4</td>\n",
       "    </tr>\n",
       "  </tbody>\n",
       "</table>\n",
       "</div>"
      ],
      "text/plain": [
       "                      recency  frequency  rating  labels\n",
       "reviewerID                                              \n",
       "A0068533X8Y5TYUJWWIC     1571          1     5.0       2\n",
       "A0333047WGK24IZKLDP2     1450          1     4.0       2\n",
       "A0534350D18UHJKPKZ1W     1154          1     5.0       2\n",
       "A095896256EBDK3E42GW     1519          1     1.0       1\n",
       "A1000EWBXBHK0P           1434          2     4.0       4"
      ]
     },
     "execution_count": 126,
     "metadata": {},
     "output_type": "execute_result"
    }
   ],
   "source": [
    "data['labels'] = label_df['labels'].values\n",
    "data.head()"
   ]
  },
  {
   "cell_type": "code",
   "execution_count": 130,
   "id": "5d27ca88",
   "metadata": {},
   "outputs": [
    {
     "name": "stdout",
     "output_type": "stream",
     "text": [
      "No. of reviews in Cluster-0 :  5760\n",
      "\n",
      "No. of reviews in Cluster-1 :  9612\n",
      "\n",
      "No. of reviews in Cluster-2 :  23154\n",
      "\n",
      "No. of reviews in Cluster-3 :  206\n",
      "\n",
      "No. of reviews in Cluster-4 :  3493\n"
     ]
    }
   ],
   "source": [
    "reviews = df2['Review'].values\n",
    "cluster0 = []\n",
    "cluster1 = []\n",
    "cluster2 = []\n",
    "cluster3 = []\n",
    "cluster4 = []\n",
    "\n",
    "for i in range(kmeans.labels_.shape[0]):\n",
    "    if kmeans.labels_[i] == 0:\n",
    "        cluster0.append(reviews[i])\n",
    "    elif kmeans.labels_[i] == 1:\n",
    "        cluster1.append(reviews[i])\n",
    "    elif kmeans.labels_[i] == 2:\n",
    "        cluster2.append(reviews[i])\n",
    "    elif kmeans.labels_[i] == 3:\n",
    "        cluster3.append(reviews[i])\n",
    "    else :\n",
    "        cluster4.append(reviews[i]) \n",
    "        \n",
    "#Number of reviews in different clusters\n",
    "print(\"No. of reviews in Cluster-0 : \",len(cluster0))\n",
    "print(\"\\nNo. of reviews in Cluster-1 : \",len(cluster1))\n",
    "print(\"\\nNo. of reviews in Cluster-2 : \",len(cluster2))\n",
    "print(\"\\nNo. of reviews in Cluster-3 : \",len(cluster3))\n",
    "print(\"\\nNo. of reviews in Cluster-4 : \",len(cluster4))"
   ]
  },
  {
   "cell_type": "code",
   "execution_count": 131,
   "id": "7626cb64",
   "metadata": {},
   "outputs": [
    {
     "data": {
      "text/html": [
       "<div>\n",
       "<style scoped>\n",
       "    .dataframe tbody tr th:only-of-type {\n",
       "        vertical-align: middle;\n",
       "    }\n",
       "\n",
       "    .dataframe tbody tr th {\n",
       "        vertical-align: top;\n",
       "    }\n",
       "\n",
       "    .dataframe thead th {\n",
       "        text-align: right;\n",
       "    }\n",
       "</style>\n",
       "<table border=\"1\" class=\"dataframe\">\n",
       "  <thead>\n",
       "    <tr style=\"text-align: right;\">\n",
       "      <th></th>\n",
       "      <th>recency</th>\n",
       "      <th>frequency</th>\n",
       "      <th>rating</th>\n",
       "    </tr>\n",
       "    <tr>\n",
       "      <th>labels</th>\n",
       "      <th></th>\n",
       "      <th></th>\n",
       "      <th></th>\n",
       "    </tr>\n",
       "  </thead>\n",
       "  <tbody>\n",
       "    <tr>\n",
       "      <th>0</th>\n",
       "      <td>3819.047396</td>\n",
       "      <td>1.044444</td>\n",
       "      <td>4.367332</td>\n",
       "    </tr>\n",
       "    <tr>\n",
       "      <th>1</th>\n",
       "      <td>1503.419892</td>\n",
       "      <td>1.025593</td>\n",
       "      <td>1.704605</td>\n",
       "    </tr>\n",
       "    <tr>\n",
       "      <th>2</th>\n",
       "      <td>1210.454954</td>\n",
       "      <td>1.000000</td>\n",
       "      <td>4.818066</td>\n",
       "    </tr>\n",
       "    <tr>\n",
       "      <th>3</th>\n",
       "      <td>1415.000000</td>\n",
       "      <td>6.606796</td>\n",
       "      <td>4.330962</td>\n",
       "    </tr>\n",
       "    <tr>\n",
       "      <th>4</th>\n",
       "      <td>1235.750644</td>\n",
       "      <td>2.306041</td>\n",
       "      <td>4.412062</td>\n",
       "    </tr>\n",
       "  </tbody>\n",
       "</table>\n",
       "</div>"
      ],
      "text/plain": [
       "            recency  frequency    rating\n",
       "labels                                  \n",
       "0       3819.047396   1.044444  4.367332\n",
       "1       1503.419892   1.025593  1.704605\n",
       "2       1210.454954   1.000000  4.818066\n",
       "3       1415.000000   6.606796  4.330962\n",
       "4       1235.750644   2.306041  4.412062"
      ]
     },
     "execution_count": 131,
     "metadata": {},
     "output_type": "execute_result"
    }
   ],
   "source": [
    "cluster_means = data.groupby('labels').mean()\n",
    "cluster_means"
   ]
  },
  {
   "cell_type": "code",
   "execution_count": 134,
   "id": "4aa50152",
   "metadata": {},
   "outputs": [
    {
     "data": {
      "text/html": [
       "<div>\n",
       "<style scoped>\n",
       "    .dataframe tbody tr th:only-of-type {\n",
       "        vertical-align: middle;\n",
       "    }\n",
       "\n",
       "    .dataframe tbody tr th {\n",
       "        vertical-align: top;\n",
       "    }\n",
       "\n",
       "    .dataframe thead th {\n",
       "        text-align: right;\n",
       "    }\n",
       "</style>\n",
       "<table border=\"1\" class=\"dataframe\">\n",
       "  <thead>\n",
       "    <tr style=\"text-align: right;\">\n",
       "      <th></th>\n",
       "      <th>recency</th>\n",
       "      <th>frequency</th>\n",
       "      <th>rating</th>\n",
       "    </tr>\n",
       "    <tr>\n",
       "      <th>labels</th>\n",
       "      <th></th>\n",
       "      <th></th>\n",
       "      <th></th>\n",
       "    </tr>\n",
       "  </thead>\n",
       "  <tbody>\n",
       "    <tr>\n",
       "      <th>Satisfied but Infrequent Shoppers</th>\n",
       "      <td>3819.047396</td>\n",
       "      <td>1.044444</td>\n",
       "      <td>4.367332</td>\n",
       "    </tr>\n",
       "    <tr>\n",
       "      <th>Dissatisfied and Infrequent Shoppers</th>\n",
       "      <td>1503.419892</td>\n",
       "      <td>1.025593</td>\n",
       "      <td>1.704605</td>\n",
       "    </tr>\n",
       "    <tr>\n",
       "      <th>Highly Satisfied but Infrequent Shoppers</th>\n",
       "      <td>1210.454954</td>\n",
       "      <td>1.000000</td>\n",
       "      <td>4.818066</td>\n",
       "    </tr>\n",
       "    <tr>\n",
       "      <th>Frequent and Loyal Shoppers</th>\n",
       "      <td>1415.000000</td>\n",
       "      <td>6.606796</td>\n",
       "      <td>4.330962</td>\n",
       "    </tr>\n",
       "    <tr>\n",
       "      <th>Moderately Satisfied and Frequent Shoppers</th>\n",
       "      <td>1235.750644</td>\n",
       "      <td>2.306041</td>\n",
       "      <td>4.412062</td>\n",
       "    </tr>\n",
       "  </tbody>\n",
       "</table>\n",
       "</div>"
      ],
      "text/plain": [
       "                                                recency  frequency    rating\n",
       "labels                                                                      \n",
       "Satisfied but Infrequent Shoppers           3819.047396   1.044444  4.367332\n",
       "Dissatisfied and Infrequent Shoppers        1503.419892   1.025593  1.704605\n",
       "Highly Satisfied but Infrequent Shoppers    1210.454954   1.000000  4.818066\n",
       "Frequent and Loyal Shoppers                 1415.000000   6.606796  4.330962\n",
       "Moderately Satisfied and Frequent Shoppers  1235.750644   2.306041  4.412062"
      ]
     },
     "execution_count": 134,
     "metadata": {},
     "output_type": "execute_result"
    }
   ],
   "source": [
    "# Define the cluster names based on the characteristics of each cluster\n",
    "cluster_names = {\n",
    "    0: \"Satisfied but Infrequent Shoppers\",\n",
    "    1: \"Dissatisfied and Infrequent Shoppers\",\n",
    "    2: \"Highly Satisfied but Infrequent Shoppers\",\n",
    "    3: \"Frequent and Loyal Shoppers\",\n",
    "    4: \"Moderately Satisfied and Frequent Shoppers\"\n",
    "}\n",
    "\n",
    "# Assign the cluster names to the DataFrame labels\n",
    "data = cluster_means.rename(index=cluster_names)\n",
    "\n",
    "data"
   ]
  },
  {
   "cell_type": "markdown",
   "id": "68b63214",
   "metadata": {},
   "source": [
    "##### To interpret the RFM analysis results for customer retention and identify strategies for improving retention, you can consider the following insights based on the provided DataFrame:"
   ]
  },
  {
   "cell_type": "markdown",
   "id": "723a1bc2",
   "metadata": {},
   "source": [
    "Satisfied but Infrequent Shoppers: These customers are highly satisfied with their purchases but don't shop frequently. To retain these customers, you can offer personalized promotions or discounts that encourage them to shop more frequently. You can also send targeted email campaigns or product recommendations to keep them engaged with your brand.\n",
    "\n",
    "Dissatisfied and Infrequent Shoppers: These customers have low satisfaction and don't shop frequently. To improve retention for this group, you need to address the reasons for their dissatisfaction. You can reach out to these customers with personalized surveys or feedback forms to understand their concerns. Based on their feedback, you can make changes to your product or service offerings to address their needs.\n",
    "\n",
    "Highly Satisfied but Infrequent Shoppers: These customers are highly satisfied with their purchases but don't shop frequently. Similar to the first group, you can retain these customers by offering personalized promotions or discounts that encourage them to shop more frequently. You can also send targeted email campaigns or product recommendations to keep them engaged with your brand.\n",
    "\n",
    "Frequent and Loyal Shoppers: These customers are frequent shoppers and have high loyalty to your brand. To retain these customers, you can offer loyalty rewards or VIP programs that recognize and reward their loyalty. You can also send personalized communications or exclusive offers to keep them engaged and feeling valued.\n",
    "\n",
    "Moderately Satisfied and Frequent Shoppers: These customers are moderately satisfied with their purchases and shop frequently. To improve retention for this group, you can focus on improving their satisfaction by offering more personalized and relevant product recommendations or customized offers. You can also offer incentives for them to refer friends or family to your brand, which can help to grow your customer base.\n",
    "\n",
    "Overall, the key to improving customer retention is to understand the needs and preferences of each group of customers and to offer personalized experiences that meet their unique needs. By leveraging the insights gained from RFM analysis, you can develop targeted retention strategies that drive long-term customer loyalty and growth."
   ]
  },
  {
   "cell_type": "markdown",
   "id": "06c405ba",
   "metadata": {},
   "source": [
    "# Conclusion"
   ]
  },
  {
   "cell_type": "markdown",
   "id": "f96fa012",
   "metadata": {},
   "source": [
    "## RFM analysis can provide valuable insights into customer behavior, and by segmenting customers into five distinct clusters, businesses can develop targeted retention strategies to improve customer satisfaction and loyalty, such as personalized promotions, loyalty rewards, and product recommendations."
   ]
  },
  {
   "cell_type": "code",
   "execution_count": null,
   "id": "644e2a20",
   "metadata": {},
   "outputs": [],
   "source": []
  },
  {
   "cell_type": "code",
   "execution_count": null,
   "id": "a21cad0f",
   "metadata": {},
   "outputs": [],
   "source": []
  },
  {
   "cell_type": "code",
   "execution_count": null,
   "id": "8fffd86a",
   "metadata": {},
   "outputs": [],
   "source": []
  }
 ],
 "metadata": {
  "kernelspec": {
   "display_name": "Python 3 (ipykernel)",
   "language": "python",
   "name": "python3"
  },
  "language_info": {
   "codemirror_mode": {
    "name": "ipython",
    "version": 3
   },
   "file_extension": ".py",
   "mimetype": "text/x-python",
   "name": "python",
   "nbconvert_exporter": "python",
   "pygments_lexer": "ipython3",
   "version": "3.9.12"
  }
 },
 "nbformat": 4,
 "nbformat_minor": 5
}
